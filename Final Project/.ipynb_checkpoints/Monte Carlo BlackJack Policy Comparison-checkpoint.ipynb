{
 "cells": [
  {
   "cell_type": "code",
   "execution_count": 1,
   "metadata": {},
   "outputs": [],
   "source": [
    "#Import main\n",
    "from main import *"
   ]
  },
  {
   "cell_type": "code",
   "execution_count": 2,
   "metadata": {},
   "outputs": [],
   "source": [
    "import seaborn as sns\n",
    "import matplotlib.pyplot as plt\n",
    "from scipy.stats import norm\n",
    "import numpy as np\n",
    "import pandas as pd"
   ]
  },
  {
   "cell_type": "code",
   "execution_count": 6,
   "metadata": {},
   "outputs": [],
   "source": [
    "p1 = get_stats(policy_1, 1000000)\n",
    "p2 = get_stats(policy_2, 1000000)\n",
    "p3 = get_stats(policy_3, 1000000)\n",
    "p4 = get_stats(policy_4, 1000000)\n",
    "p5 = get_stats(policy_5, 1000000)\n",
    "p6 = get_stats(policy_6, 1000000)"
   ]
  },
  {
   "cell_type": "code",
   "execution_count": 8,
   "metadata": {},
   "outputs": [],
   "source": [
    "p1_wins = p1['P_Wins']/p1['num_of_tests']*100\n",
    "p2_wins = p2['P_Wins']/p2['num_of_tests']*100\n",
    "p3_wins = p3['P_Wins']/p3['num_of_tests']*100\n",
    "p4_wins = p4['P_Wins']/p4['num_of_tests']*100\n",
    "p5_wins = p5['P_Wins']/p5['num_of_tests']*100\n",
    "p6_wins = p6['P_Wins']/p6['num_of_tests']*100\n",
    "all_wins = [p1_wins, p2_wins, p3_wins, p4_wins, p5_wins, p6_wins]"
   ]
  },
  {
   "cell_type": "code",
   "execution_count": 9,
   "metadata": {},
   "outputs": [
    {
     "data": {
      "text/plain": [
       "<matplotlib.axes._subplots.AxesSubplot at 0x7fc7243d6940>"
      ]
     },
     "execution_count": 9,
     "metadata": {},
     "output_type": "execute_result"
    },
    {
     "data": {
      "image/png": "[encoded data removed]",
      "text/plain": [
       "<Figure size 432x288 with 1 Axes>"
      ]
     },
     "metadata": {
      "needs_background": "light"
     },
     "output_type": "display_data"
    }
   ],
   "source": [
    "sns.distplot(all_wins)"
   ]
  },
  {
   "cell_type": "code",
   "execution_count": 3,
   "metadata": {},
   "outputs": [],
   "source": [
    "#Display stats for different policies\n",
    "def stats_data(policy_stats):\n",
    "    stats_p1 = [0,0,0,0,0]\n",
    "    for i in policy_stats:\n",
    "        if i == -2:\n",
    "            stats_p1[0] += 1\n",
    "        elif i == -1:\n",
    "            stats_p1[1] += 1\n",
    "        elif i == 0:\n",
    "            stats_p1[2] += 1\n",
    "        elif i == 1:\n",
    "            stats_p1[3] += 1\n",
    "        elif i == 2:\n",
    "            stats_p1[4] += 1\n",
    "    stats_percent = []\n",
    "    stats_percent.append(stats_p1[0] / len(policy_stats) * 100)\n",
    "    stats_percent.append(stats_p1[1] / len(policy_stats) * 100)\n",
    "    stats_percent.append(stats_p1[2] / len(policy_stats) * 100)\n",
    "    stats_percent.append(stats_p1[3] / len(policy_stats) * 100)\n",
    "    stats_percent.append(stats_p1[4] / len(policy_stats) * 100)\n",
    "    print('player busts: ',stats_percent[0], '%')\n",
    "    print('player loses: ', stats_percent[1] , '%')\n",
    "    print('draw: ', stats_percent[2] , '%')\n",
    "    print('player wins: ', stats_percent[3] , '%')\n",
    "    print('dealer busts: ', stats_percent[4] , '%')\n",
    "    return stats_percent"
   ]
  },
  {
   "cell_type": "code",
   "execution_count": 10,
   "metadata": {},
   "outputs": [],
   "source": [
    "#Policy 1\n",
    "p1 = get_stats_mod(policy_1, 1000000)"
   ]
  },
  {
   "cell_type": "code",
   "execution_count": 12,
   "metadata": {},
   "outputs": [
    {
     "name": "stdout",
     "output_type": "stream",
     "text": [
      "policy 1 stats: \n",
      "player busts:  20.1209 %\n",
      "player loses:  20.5747 %\n",
      "draw:  18.5136 %\n",
      "player wins:  23.985699999999998 %\n",
      "dealer busts:  16.8051 %\n"
     ]
    }
   ],
   "source": [
    "print('policy 1 stats: ')\n",
    "p1_array = stats_data(p1)"
   ]
  },
  {
   "cell_type": "code",
   "execution_count": 13,
   "metadata": {},
   "outputs": [
    {
     "data": {
      "image/png": "[encoded data removed]",
      "text/plain": [
       "<Figure size 432x288 with 1 Axes>"
      ]
     },
     "metadata": {
      "needs_background": "light"
     },
     "output_type": "display_data"
    }
   ],
   "source": [
    "objects = ('Player Bust', 'Dealer Wins', 'Draw', 'Player Wins', 'Dealer Busts')\n",
    "y_pos = np.arange(len(objects))\n",
    "performance = p1_array\n",
    " \n",
    "plt.bar(y_pos, performance, align='center', alpha=0.5)\n",
    "plt.xticks(y_pos, objects)\n",
    "plt.ylabel('Percent')\n",
    "plt.title('Policy 1 Outcomes')\n",
    " \n",
    "plt.show()"
   ]
  },
  {
   "cell_type": "code",
   "execution_count": 14,
   "metadata": {},
   "outputs": [],
   "source": [
    "#Policy 2 Stats\n",
    "p2 = get_stats_mod(policy_1, 1000000)"
   ]
  },
  {
   "cell_type": "code",
   "execution_count": 15,
   "metadata": {},
   "outputs": [
    {
     "name": "stdout",
     "output_type": "stream",
     "text": [
      "policy 2 stats: \n",
      "player busts:  20.2232 %\n",
      "player loses:  20.5396 %\n",
      "draw:  18.475 %\n",
      "player wins:  23.9013 %\n",
      "dealer busts:  16.8609 %\n"
     ]
    }
   ],
   "source": [
    "print('policy 2 stats: ')\n",
    "p2_array = stats_data(p2)"
   ]
  },
  {
   "cell_type": "code",
   "execution_count": 16,
   "metadata": {},
   "outputs": [
    {
     "data": {
      "image/png": "[encoded data removed]",
      "text/plain": [
       "<Figure size 432x288 with 1 Axes>"
      ]
     },
     "metadata": {
      "needs_background": "light"
     },
     "output_type": "display_data"
    }
   ],
   "source": [
    "objects = ('Player Bust', 'Dealer Wins', 'Draw', 'Player Wins', 'Dealer Busts')\n",
    "y_pos = np.arange(len(objects))\n",
    "performance = p2_array\n",
    " \n",
    "plt.bar(y_pos, performance, align='center', alpha=0.5, color=\"darkblue\")\n",
    "plt.xticks(y_pos, objects)\n",
    "plt.ylabel('Percent')\n",
    "plt.title('Policy 2 Outcomes')\n",
    " \n",
    "plt.show()"
   ]
  },
  {
   "cell_type": "code",
   "execution_count": 17,
   "metadata": {},
   "outputs": [],
   "source": [
    "#Policy 3 Stats\n",
    "p3 = get_stats_mod(policy_3, 1000000)"
   ]
  },
  {
   "cell_type": "code",
   "execution_count": 18,
   "metadata": {},
   "outputs": [
    {
     "name": "stdout",
     "output_type": "stream",
     "text": [
      "policy 3 stats: \n",
      "player busts:  20.758 %\n",
      "player loses:  20.118 %\n",
      "draw:  18.4618 %\n",
      "player wins:  24.107300000000002 %\n",
      "dealer busts:  16.5549 %\n"
     ]
    }
   ],
   "source": [
    "print('policy 3 stats: ')\n",
    "p3_array = stats_data(p3)"
   ]
  },
  {
   "cell_type": "code",
   "execution_count": 19,
   "metadata": {},
   "outputs": [
    {
     "data": {
      "image/png": "[encoded data removed]",
      "text/plain": [
       "<Figure size 432x288 with 1 Axes>"
      ]
     },
     "metadata": {
      "needs_background": "light"
     },
     "output_type": "display_data"
    }
   ],
   "source": [
    "objects = ('Player Bust', 'Dealer Wins', 'Draw', 'Player Wins', 'Dealer Busts')\n",
    "y_pos = np.arange(len(objects))\n",
    "performance = p3_array\n",
    " \n",
    "plt.bar(y_pos, performance, align='center', alpha=0.5, color=\"purple\")\n",
    "plt.xticks(y_pos, objects)\n",
    "plt.ylabel('Percent')\n",
    "plt.title('Policy 3 Outcomes')\n",
    " \n",
    "plt.show()"
   ]
  },
  {
   "cell_type": "code",
   "execution_count": 20,
   "metadata": {},
   "outputs": [],
   "source": [
    "#Policy 4 Stats\n",
    "p4 = get_stats_mod(policy_4, 1000000)"
   ]
  },
  {
   "cell_type": "code",
   "execution_count": 21,
   "metadata": {},
   "outputs": [
    {
     "name": "stdout",
     "output_type": "stream",
     "text": [
      "policy 4 stats: \n",
      "player busts:  0.0 %\n",
      "player loses:  56.73629999999999 %\n",
      "draw:  5.2149 %\n",
      "player wins:  11.2704 %\n",
      "dealer busts:  26.7784 %\n"
     ]
    }
   ],
   "source": [
    "print('policy 4 stats: ')\n",
    "p4_array = stats_data(p4)"
   ]
  },
  {
   "cell_type": "code",
   "execution_count": 22,
   "metadata": {},
   "outputs": [
    {
     "data": {
      "image/png": "[encoded data removed]",
      "text/plain": [
       "<Figure size 432x288 with 1 Axes>"
      ]
     },
     "metadata": {
      "needs_background": "light"
     },
     "output_type": "display_data"
    }
   ],
   "source": [
    "objects = ('Player Bust', 'Dealer Wins', 'Draw', 'Player Wins', 'Dealer Busts')\n",
    "y_pos = np.arange(len(objects))\n",
    "performance = p4_array\n",
    " \n",
    "plt.bar(y_pos, performance, align='center', alpha=0.5, color='pink')\n",
    "plt.xticks(y_pos, objects)\n",
    "plt.ylabel('Percent')\n",
    "plt.title('Policy 4 Outcomes')\n",
    " \n",
    "plt.show()"
   ]
  },
  {
   "cell_type": "code",
   "execution_count": 23,
   "metadata": {},
   "outputs": [],
   "source": [
    "#Policy 5 Stats\n",
    "p5 = get_stats_mod(policy_5, 1000000)"
   ]
  },
  {
   "cell_type": "code",
   "execution_count": 24,
   "metadata": {},
   "outputs": [
    {
     "name": "stdout",
     "output_type": "stream",
     "text": [
      "policy 5 stats: \n",
      "player busts:  12.771199999999999 %\n",
      "player loses:  33.0868 %\n",
      "draw:  12.0838 %\n",
      "player wins:  19.9876 %\n",
      "dealer busts:  22.070600000000002 %\n"
     ]
    }
   ],
   "source": [
    "print('policy 5 stats: ')\n",
    "p5_array = stats_data(p5)"
   ]
  },
  {
   "cell_type": "code",
   "execution_count": 25,
   "metadata": {},
   "outputs": [
    {
     "data": {
      "image/png": "[encoded data removed]",
      "text/plain": [
       "<Figure size 432x288 with 1 Axes>"
      ]
     },
     "metadata": {
      "needs_background": "light"
     },
     "output_type": "display_data"
    }
   ],
   "source": [
    "objects = ('Player Bust', 'Dealer Wins', 'Draw', 'Player Wins', 'Dealer Busts')\n",
    "y_pos = np.arange(len(objects))\n",
    "performance = p5_array\n",
    " \n",
    "plt.bar(y_pos, performance, align='center', alpha=0.5, color='y')\n",
    "plt.xticks(y_pos, objects)\n",
    "plt.ylabel('Percent')\n",
    "plt.title('Policy 5 Outcomes')\n",
    " \n",
    "plt.show()"
   ]
  },
  {
   "cell_type": "code",
   "execution_count": 26,
   "metadata": {},
   "outputs": [],
   "source": [
    "#Policy 6 Stats\n",
    "p6 = get_stats_mod(policy_6, 1000000)"
   ]
  },
  {
   "cell_type": "code",
   "execution_count": 27,
   "metadata": {
    "scrolled": true
   },
   "outputs": [
    {
     "name": "stdout",
     "output_type": "stream",
     "text": [
      "policy 6 stats: \n",
      "player busts:  12.3839 %\n",
      "player loses:  33.2064 %\n",
      "draw:  12.0512 %\n",
      "player wins:  20.0601 %\n",
      "dealer busts:  22.298399999999997 %\n"
     ]
    }
   ],
   "source": [
    "print('policy 6 stats: ')\n",
    "p6_array = stats_data(p6)"
   ]
  },
  {
   "cell_type": "code",
   "execution_count": 28,
   "metadata": {},
   "outputs": [
    {
     "data": {
      "image/png": "[encoded data removed]",
      "text/plain": [
       "<Figure size 432x288 with 1 Axes>"
      ]
     },
     "metadata": {
      "needs_background": "light"
     },
     "output_type": "display_data"
    }
   ],
   "source": [
    "objects = ('Player Bust', 'Dealer Wins', 'Draw', 'Player Wins', 'Dealer Busts')\n",
    "y_pos = np.arange(len(objects))\n",
    "performance = p6_array\n",
    " \n",
    "plt.bar(y_pos, performance, align='center', alpha=0.5, color='g')\n",
    "plt.xticks(y_pos, objects)\n",
    "plt.ylabel('Percent')\n",
    "plt.title('Policy 6 Outcomes')\n",
    " \n",
    "plt.show()"
   ]
  },
  {
   "cell_type": "code",
   "execution_count": 4,
   "metadata": {},
   "outputs": [],
   "source": [
    "#Policy 7 Stats .25 %\n",
    "p7_25 = get_stats_mod(policy_7_25, 1000000)"
   ]
  },
  {
   "cell_type": "code",
   "execution_count": 5,
   "metadata": {
    "scrolled": true
   },
   "outputs": [
    {
     "name": "stdout",
     "output_type": "stream",
     "text": [
      "policy 7 stats: \n",
      "player busts:  27.0586 %\n",
      "player loses:  13.2969 %\n",
      "draw:  19.7742 %\n",
      "player wins:  26.0387 %\n",
      "dealer busts:  13.8316 %\n"
     ]
    }
   ],
   "source": [
    "print('policy 7 stats: ')\n",
    "p7_array = stats_data(p7_25)"
   ]
  },
  {
   "cell_type": "code",
   "execution_count": 6,
   "metadata": {},
   "outputs": [
    {
     "data": {
      "image/png": "[encoded data removed]",
      "text/plain": [
       "<Figure size 432x288 with 1 Axes>"
      ]
     },
     "metadata": {
      "needs_background": "light"
     },
     "output_type": "display_data"
    }
   ],
   "source": [
    "objects = ('Player Bust', 'Dealer Wins', 'Draw', 'Player Wins', 'Dealer Busts')\n",
    "y_pos = np.arange(len(objects))\n",
    "performance = p7_array\n",
    " \n",
    "plt.bar(y_pos, performance, align='center', alpha=0.5, color='r')\n",
    "plt.xticks(y_pos, objects)\n",
    "plt.ylabel('Percent')\n",
    "plt.title('Policy 7 (finite) 25% Outcomes')\n",
    " \n",
    "plt.show()"
   ]
  },
  {
   "cell_type": "code",
   "execution_count": 7,
   "metadata": {},
   "outputs": [],
   "source": [
    "#Policy 7 Stats 75 %\n",
    "p7_75 = get_stats_mod(policy_7_75, 1000000)"
   ]
  },
  {
   "cell_type": "code",
   "execution_count": 8,
   "metadata": {
    "scrolled": true
   },
   "outputs": [
    {
     "name": "stdout",
     "output_type": "stream",
     "text": [
      "policy 7 stats: \n",
      "player busts:  0.0 %\n",
      "player loses:  51.8123 %\n",
      "draw:  6.8525 %\n",
      "player wins:  15.068500000000002 %\n",
      "dealer busts:  26.2667 %\n"
     ]
    }
   ],
   "source": [
    "print('policy 7 stats: ')\n",
    "p7_array = stats_data(p7_75)"
   ]
  },
  {
   "cell_type": "code",
   "execution_count": 9,
   "metadata": {},
   "outputs": [
    {
     "data": {
      "image/png": "[encoded data removed]",
      "text/plain": [
       "<Figure size 432x288 with 1 Axes>"
      ]
     },
     "metadata": {
      "needs_background": "light"
     },
     "output_type": "display_data"
    }
   ],
   "source": [
    "objects = ('Player Bust', 'Dealer Wins', 'Draw', 'Player Wins', 'Dealer Busts')\n",
    "y_pos = np.arange(len(objects))\n",
    "performance = p7_array\n",
    " \n",
    "plt.bar(y_pos, performance, align='center', alpha=0.5, color='darkblue')\n",
    "plt.xticks(y_pos, objects)\n",
    "plt.ylabel('Percent')\n",
    "plt.title('Policy 7 (finite) 75% Outcomes')\n",
    " \n",
    "plt.show()"
   ]
  },
  {
   "cell_type": "code",
   "execution_count": 10,
   "metadata": {},
   "outputs": [],
   "source": [
    "#Infinite Case, Global Finite is Now false\n",
    "finite = False"
   ]
  },
  {
   "cell_type": "code",
   "execution_count": 11,
   "metadata": {},
   "outputs": [],
   "source": [
    "p1_infinite = get_stats_mod(policy_1, 1000000)"
   ]
  },
  {
   "cell_type": "code",
   "execution_count": 12,
   "metadata": {},
   "outputs": [
    {
     "name": "stdout",
     "output_type": "stream",
     "text": [
      "policy 2 stats: \n",
      "player busts:  20.2423 %\n",
      "player loses:  20.5094 %\n",
      "draw:  18.4262 %\n",
      "player wins:  23.9181 %\n",
      "dealer busts:  16.904 %\n"
     ]
    }
   ],
   "source": [
    "print('policy 2 stats: ')\n",
    "p1_array_inf = stats_data(p1_infinite)"
   ]
  },
  {
   "cell_type": "code",
   "execution_count": 13,
   "metadata": {},
   "outputs": [
    {
     "data": {
      "image/png": "[encoded data removed]",
      "text/plain": [
       "<Figure size 432x288 with 1 Axes>"
      ]
     },
     "metadata": {
      "needs_background": "light"
     },
     "output_type": "display_data"
    }
   ],
   "source": [
    "objects = ('Player Bust', 'Dealer Wins', 'Draw', 'Player Wins', 'Dealer Busts')\n",
    "y_pos = np.arange(len(objects))\n",
    "performance = p1_array_inf\n",
    " \n",
    "plt.bar(y_pos, performance, align='center', alpha=0.5)\n",
    "plt.xticks(y_pos, objects)\n",
    "plt.ylabel('Percent')\n",
    "plt.title('Policy 1 (infinite) Outcomes')\n",
    " \n",
    "plt.show()"
   ]
  },
  {
   "cell_type": "code",
   "execution_count": 14,
   "metadata": {},
   "outputs": [],
   "source": [
    "p2_inf = get_stats_mod(policy_2, 1000000)"
   ]
  },
  {
   "cell_type": "code",
   "execution_count": 15,
   "metadata": {},
   "outputs": [
    {
     "name": "stdout",
     "output_type": "stream",
     "text": [
      "policy 2 stats: \n",
      "player busts:  21.5165 %\n",
      "player loses:  19.602700000000002 %\n",
      "draw:  18.6755 %\n",
      "player wins:  24.1089 %\n",
      "dealer busts:  16.0964 %\n"
     ]
    }
   ],
   "source": [
    "print('policy 2 stats: ')\n",
    "p2_array_inf = stats_data(p2_inf)"
   ]
  },
  {
   "cell_type": "code",
   "execution_count": 16,
   "metadata": {},
   "outputs": [
    {
     "data": {
      "image/png": "[encoded data removed]",
      "text/plain": [
       "<Figure size 432x288 with 1 Axes>"
      ]
     },
     "metadata": {
      "needs_background": "light"
     },
     "output_type": "display_data"
    }
   ],
   "source": [
    "objects = ('Player Bust', 'Dealer Wins', 'Draw', 'Player Wins', 'Dealer Busts')\n",
    "y_pos = np.arange(len(objects))\n",
    "performance = p2_array_inf\n",
    " \n",
    "plt.bar(y_pos, performance, align='center', alpha=0.5, color=\"darkblue\")\n",
    "plt.xticks(y_pos, objects)\n",
    "plt.ylabel('Percent')\n",
    "plt.title('Policy 2 (infinite) Outcomes')\n",
    " \n",
    "plt.show()"
   ]
  },
  {
   "cell_type": "code",
   "execution_count": 17,
   "metadata": {},
   "outputs": [],
   "source": [
    "p3_inf = get_stats_mod(policy_3, 1000000)"
   ]
  },
  {
   "cell_type": "code",
   "execution_count": 18,
   "metadata": {},
   "outputs": [
    {
     "name": "stdout",
     "output_type": "stream",
     "text": [
      "policy 3 stats: \n",
      "player busts:  20.7407 %\n",
      "player loses:  20.014000000000003 %\n",
      "draw:  18.5297 %\n",
      "player wins:  24.2129 %\n",
      "dealer busts:  16.5027 %\n"
     ]
    }
   ],
   "source": [
    "print('policy 3 stats: ')\n",
    "p3_array_inf = stats_data(p3_inf)"
   ]
  },
  {
   "cell_type": "code",
   "execution_count": 19,
   "metadata": {},
   "outputs": [
    {
     "data": {
      "image/png": "[encoded data removed]",
      "text/plain": [
       "<Figure size 432x288 with 1 Axes>"
      ]
     },
     "metadata": {
      "needs_background": "light"
     },
     "output_type": "display_data"
    }
   ],
   "source": [
    "objects = ('Player Bust', 'Dealer Wins', 'Draw', 'Player Wins', 'Dealer Busts')\n",
    "y_pos = np.arange(len(objects))\n",
    "performance = p3_array_inf\n",
    " \n",
    "plt.bar(y_pos, performance, align='center', alpha=0.5, color=\"purple\")\n",
    "plt.xticks(y_pos, objects)\n",
    "plt.ylabel('Percent')\n",
    "plt.title('Policy 3 (infinite) Outcomes')\n",
    " \n",
    "plt.show()"
   ]
  },
  {
   "cell_type": "code",
   "execution_count": 20,
   "metadata": {},
   "outputs": [],
   "source": [
    "p4_inf = get_stats_mod(policy_4, 1000000)"
   ]
  },
  {
   "cell_type": "code",
   "execution_count": 21,
   "metadata": {},
   "outputs": [
    {
     "name": "stdout",
     "output_type": "stream",
     "text": [
      "policy 4 stats: \n",
      "player busts:  0.0 %\n",
      "player loses:  56.7188 %\n",
      "draw:  5.2297 %\n",
      "player wins:  11.2454 %\n",
      "dealer busts:  26.8061 %\n"
     ]
    }
   ],
   "source": [
    "print('policy 4 stats: ')\n",
    "p4_array_inf = stats_data(p4_inf)"
   ]
  },
  {
   "cell_type": "code",
   "execution_count": 22,
   "metadata": {},
   "outputs": [
    {
     "data": {
      "image/png": "[encoded data removed]",
      "text/plain": [
       "<Figure size 432x288 with 1 Axes>"
      ]
     },
     "metadata": {
      "needs_background": "light"
     },
     "output_type": "display_data"
    }
   ],
   "source": [
    "objects = ('Player Bust', 'Dealer Wins', 'Draw', 'Player Wins', 'Dealer Busts')\n",
    "y_pos = np.arange(len(objects))\n",
    "performance = p4_array_inf\n",
    " \n",
    "plt.bar(y_pos, performance, align='center', alpha=0.5, color='pink')\n",
    "plt.xticks(y_pos, objects)\n",
    "plt.ylabel('Percent')\n",
    "plt.title('Policy 4 (infinite) Outcomes')\n",
    " \n",
    "plt.show()"
   ]
  },
  {
   "cell_type": "code",
   "execution_count": 23,
   "metadata": {},
   "outputs": [],
   "source": [
    "p5_inf = get_stats_mod(policy_5, 1000000)"
   ]
  },
  {
   "cell_type": "code",
   "execution_count": 24,
   "metadata": {},
   "outputs": [
    {
     "name": "stdout",
     "output_type": "stream",
     "text": [
      "policy 5 stats: \n",
      "player busts:  12.8091 %\n",
      "player loses:  33.0734 %\n",
      "draw:  12.0627 %\n",
      "player wins:  19.9721 %\n",
      "dealer busts:  22.0827 %\n"
     ]
    }
   ],
   "source": [
    "print('policy 5 stats: ')\n",
    "p5_array_inf = stats_data(p5_inf)"
   ]
  },
  {
   "cell_type": "code",
   "execution_count": 25,
   "metadata": {},
   "outputs": [
    {
     "data": {
      "image/png": "[encoded data removed]",
      "text/plain": [
       "<Figure size 432x288 with 1 Axes>"
      ]
     },
     "metadata": {
      "needs_background": "light"
     },
     "output_type": "display_data"
    }
   ],
   "source": [
    "objects = ('Player Bust', 'Dealer Wins', 'Draw', 'Player Wins', 'Dealer Busts')\n",
    "y_pos = np.arange(len(objects))\n",
    "performance = p5_array_inf\n",
    " \n",
    "plt.bar(y_pos, performance, align='center', alpha=0.5, color='y')\n",
    "plt.xticks(y_pos, objects)\n",
    "plt.ylabel('Percent')\n",
    "plt.title('Policy 5 (infinite) Outcomes')\n",
    " \n",
    "plt.show()"
   ]
  },
  {
   "cell_type": "code",
   "execution_count": 26,
   "metadata": {},
   "outputs": [],
   "source": [
    "p6_inf = get_stats_mod(policy_6, 1000000)"
   ]
  },
  {
   "cell_type": "code",
   "execution_count": 27,
   "metadata": {
    "scrolled": true
   },
   "outputs": [
    {
     "name": "stdout",
     "output_type": "stream",
     "text": [
      "policy 6 stats: \n",
      "player busts:  12.352 %\n",
      "player loses:  33.2137 %\n",
      "draw:  12.091000000000001 %\n",
      "player wins:  20.0133 %\n",
      "dealer busts:  22.33 %\n"
     ]
    }
   ],
   "source": [
    "print('policy 6 stats: ')\n",
    "p6_array_inf = stats_data(p6_inf)"
   ]
  },
  {
   "cell_type": "code",
   "execution_count": 28,
   "metadata": {},
   "outputs": [
    {
     "data": {
      "image/png": "[encoded data removed]",
      "text/plain": [
       "<Figure size 432x288 with 1 Axes>"
      ]
     },
     "metadata": {
      "needs_background": "light"
     },
     "output_type": "display_data"
    }
   ],
   "source": [
    "objects = ('Player Bust', 'Dealer Wins', 'Draw', 'Player Wins', 'Dealer Busts')\n",
    "y_pos = np.arange(len(objects))\n",
    "performance = p6_array_inf\n",
    " \n",
    "plt.bar(y_pos, performance, align='center', alpha=0.5, color='g')\n",
    "plt.xticks(y_pos, objects)\n",
    "plt.ylabel('Percent')\n",
    "plt.title('Policy 6 (infinite) Outcomes')\n",
    " \n",
    "plt.show()"
   ]
  },
  {
   "cell_type": "code",
   "execution_count": 30,
   "metadata": {},
   "outputs": [],
   "source": [
    "#Policy 7 25%\n",
    "p7_inf_25 = get_stats_mod(policy_7_25, 1000000)"
   ]
  },
  {
   "cell_type": "code",
   "execution_count": 31,
   "metadata": {
    "scrolled": true
   },
   "outputs": [
    {
     "name": "stdout",
     "output_type": "stream",
     "text": [
      "policy 7 25% stats: \n",
      "player busts:  27.115299999999998 %\n",
      "player loses:  13.266 %\n",
      "draw:  19.6789 %\n",
      "player wins:  26.1247 %\n",
      "dealer busts:  13.8151 %\n"
     ]
    }
   ],
   "source": [
    "print('policy 7 25% stats: ')\n",
    "p7_array_inf = stats_data(p7_inf_25)"
   ]
  },
  {
   "cell_type": "code",
   "execution_count": 32,
   "metadata": {},
   "outputs": [
    {
     "data": {
      "image/png": "[encoded data removed]",
      "text/plain": [
       "<Figure size 432x288 with 1 Axes>"
      ]
     },
     "metadata": {
      "needs_background": "light"
     },
     "output_type": "display_data"
    }
   ],
   "source": [
    "objects = ('Player Bust', 'Dealer Wins', 'Draw', 'Player Wins', 'Dealer Busts')\n",
    "y_pos = np.arange(len(objects))\n",
    "performance = p7_array_inf\n",
    " \n",
    "plt.bar(y_pos, performance, align='center', alpha=0.5, color='r')\n",
    "plt.xticks(y_pos, objects)\n",
    "plt.ylabel('Percent')\n",
    "plt.title('Policy 7 (infinite) 25% Outcomes')\n",
    " \n",
    "plt.show()"
   ]
  },
  {
   "cell_type": "code",
   "execution_count": 33,
   "metadata": {},
   "outputs": [],
   "source": [
    "#Policy 7 75% outcome\n",
    "p7_75 = get_stats_mod(policy_7_75, 1000000)"
   ]
  },
  {
   "cell_type": "code",
   "execution_count": 34,
   "metadata": {},
   "outputs": [
    {
     "name": "stdout",
     "output_type": "stream",
     "text": [
      "policy 7 stats: \n",
      "player busts:  0.0 %\n",
      "player loses:  51.8686 %\n",
      "draw:  6.8371 %\n",
      "player wins:  15.0762 %\n",
      "dealer busts:  26.2181 %\n"
     ]
    }
   ],
   "source": [
    "print('policy 7 stats: ')\n",
    "p7_array = stats_data(p7_75)"
   ]
  },
  {
   "cell_type": "code",
   "execution_count": 35,
   "metadata": {},
   "outputs": [
    {
     "data": {
      "image/png": "[encoded data removed]",
      "text/plain": [
       "<Figure size 432x288 with 1 Axes>"
      ]
     },
     "metadata": {
      "needs_background": "light"
     },
     "output_type": "display_data"
    }
   ],
   "source": [
    "objects = ('Player Bust', 'Dealer Wins', 'Draw', 'Player Wins', 'Dealer Busts')\n",
    "y_pos = np.arange(len(objects))\n",
    "performance = p7_array\n",
    " \n",
    "plt.bar(y_pos, performance, align='center', alpha=0.5, color='darkblue')\n",
    "plt.xticks(y_pos, objects)\n",
    "plt.ylabel('Percent')\n",
    "plt.title('Policy 7 (infinite) 75% Outcomes')\n",
    " \n",
    "plt.show()"
   ]
  }
 ],
 "metadata": {
  "kernelspec": {
   "display_name": "Python 3",
   "language": "python",
   "name": "python3"
  },
  "language_info": {
   "codemirror_mode": {
    "name": "ipython",
    "version": 3
   },
   "file_extension": ".py",
   "mimetype": "text/x-python",
   "name": "python",
   "nbconvert_exporter": "python",
   "pygments_lexer": "ipython3",
   "version": "3.6.7"
  }
 },
 "nbformat": 4,
 "nbformat_minor": 2
}
