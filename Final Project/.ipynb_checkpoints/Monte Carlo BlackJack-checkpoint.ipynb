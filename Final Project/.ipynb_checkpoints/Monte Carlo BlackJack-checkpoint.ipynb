{
 "cells": [
  {
   "cell_type": "code",
   "execution_count": 9,
   "metadata": {},
   "outputs": [],
   "source": [
    "import random\n",
    "\n",
    "#Project has two deck version\n",
    "#Version 1: Infinite deck: On every run a card is drawn with equal probability.\n",
    "#Version 2: Single deck: One deck of cards is used. The deck is reshuffled after every game.\n",
    "\n",
    "#returns new deck of Version 2\n",
    "def newDeck():\n",
    "    return {'Ace': 4, 'Two': 4, 'Three': 4, 'Four': 4, 'Five': 4, 'Six':4, 'Seven':4, 'Eight':4,\n",
    "         'Nine': 4, 'Ten': 4, 'J': 4, 'Q':4, 'K': 4}\n",
    "\n",
    "deck = newDeck()\n",
    "\n",
    "#Check if Deck is Empty\n",
    "def isEmpty():\n",
    "    for key, value in deck.items():\n",
    "        if value > 0:\n",
    "            return False\n",
    "    return True\n",
    "\n",
    "\n",
    "#draw cards from deck\n",
    "def drawCardVersion2():\n",
    "    card, numcards = random.choice(list(deck.items()))\n",
    "    if numcards > 0:\n",
    "        deck[card] -= 1\n",
    "        return card\n",
    "    elif not isEmpty():\n",
    "        return drawCardVersion2()\n",
    "    else:\n",
    "        return 'Empty Deck'\n",
    "\n",
    "#test if drawCardVersion2 works\n",
    "#for i in range(100):\n",
    " #   print(drawCardVersion2())\n",
    "\n",
    "#for key,value in deck.items():\n",
    " #   print(key,value)"
   ]
  },
  {
   "cell_type": "code",
   "execution_count": null,
   "metadata": {},
   "outputs": [],
   "source": []
  },
  {
   "cell_type": "code",
   "execution_count": null,
   "metadata": {},
   "outputs": [],
   "source": []
  }
 ],
 "metadata": {
  "kernelspec": {
   "display_name": "Python 3",
   "language": "python",
   "name": "python3"
  },
  "language_info": {
   "codemirror_mode": {
    "name": "ipython",
    "version": 3
   },
   "file_extension": ".py",
   "mimetype": "text/x-python",
   "name": "python",
   "nbconvert_exporter": "python",
   "pygments_lexer": "ipython3",
   "version": "3.6.7"
  }
 },
 "nbformat": 4,
 "nbformat_minor": 2
}
