{
 "cells": [
  {
   "cell_type": "code",
   "execution_count": 2,
   "metadata": {},
   "outputs": [],
   "source": [
    "#Import main\n",
    "from main import *"
   ]
  },
  {
   "cell_type": "code",
   "execution_count": 7,
   "metadata": {},
   "outputs": [],
   "source": [
    "import seaborn as sns\n",
    "import matplotlib.pyplot as plt\n",
    "from scipy.stats import norm\n",
    "import numpy as np"
   ]
  },
  {
   "cell_type": "code",
   "execution_count": 3,
   "metadata": {},
   "outputs": [],
   "source": [
    "p1 = get_stats(policy_1, 1000000)\n",
    "p2 = get_stats(policy_2, 1000000)\n",
    "p3 = get_stats(policy_3, 1000000)\n",
    "p4 = get_stats(policy_4, 1000000)\n",
    "p5 = get_stats(policy_5, 1000000)\n",
    "p6 = get_stats(policy_6, 1000000)\n",
    "p7 = get_stats(policy_7, 1000000)"
   ]
  },
  {
   "cell_type": "code",
   "execution_count": 7,
   "metadata": {},
   "outputs": [],
   "source": [
    "p1_wins = p1['P_Wins']/p1['num_of_tests']*100\n",
    "p2_wins = p2['P_Wins']/p2['num_of_tests']*100\n",
    "p3_wins = p3['P_Wins']/p3['num_of_tests']*100\n",
    "p4_wins = p4['P_Wins']/p4['num_of_tests']*100\n",
    "p5_wins = p5['P_Wins']/p5['num_of_tests']*100\n",
    "p6_wins = p6['P_Wins']/p6['num_of_tests']*100\n",
    "p7_wins = p7['P_Wins']/p7['num_of_tests']*100\n",
    "all_wins = [p1_wins, p2_wins, p3_wins, p4_wins, p5_wins, p6_wins, p7_wins]"
   ]
  },
  {
   "cell_type": "code",
   "execution_count": 9,
   "metadata": {},
   "outputs": [
    {
     "data": {
      "text/plain": [
       "<matplotlib.axes._subplots.AxesSubplot at 0x7fb7708094e0>"
      ]
     },
     "execution_count": 9,
     "metadata": {},
     "output_type": "execute_result"
    },
    {
     "data": {
      "image/png": "[encoded data removed]",
      "text/plain": [
       "<Figure size 432x288 with 1 Axes>"
      ]
     },
     "metadata": {
      "needs_background": "light"
     },
     "output_type": "display_data"
    }
   ],
   "source": [
    "sns.distplot(all_wins)"
   ]
  },
  {
   "cell_type": "code",
   "execution_count": 3,
   "metadata": {},
   "outputs": [],
   "source": [
    "p1 = get_stats_mod(policy_1, 1000000)"
   ]
  },
  {
   "cell_type": "code",
   "execution_count": 22,
   "metadata": {},
   "outputs": [],
   "source": [
    "def stats_data(policy_stats):\n",
    "    stats_p1 = [0,0,0,0,0]\n",
    "    for i in policy_stats:\n",
    "        if i == -2:\n",
    "            stats_p1[0] += 1\n",
    "        elif i == -1:\n",
    "            stats_p1[1] += 1\n",
    "        elif i == 0:\n",
    "            stats_p1[2] += 1\n",
    "        elif i == 1:\n",
    "            stats_p1[3] += 1\n",
    "        elif i == 2:\n",
    "            stats_p1[4] += 1\n",
    "    stats_percent = []\n",
    "    stats_percent.append(stats_p1[0] / len(p1) * 100)\n",
    "    stats_percent.append(stats_p1[1] / len(p1) * 100)\n",
    "    stats_percent.append(stats_p1[2] / len(p1) * 100)\n",
    "    stats_percent.append(stats_p1[3] / len(p1) * 100)\n",
    "    stats_percent.append(stats_p1[4] / len(p1) * 100)\n",
    "    print('player busts: ',stats_percent[0], '%')\n",
    "    print('player loses: ', stats_percent[1] , '%')\n",
    "    print('draw: ', stats_percent[2] , '%')\n",
    "    print('player wins: ', stats_percent[3] , '%')\n",
    "    print('dealer busts: ', stats_percent[4] , '%')\n",
    "    return stats_percent"
   ]
  },
  {
   "cell_type": "code",
   "execution_count": 23,
   "metadata": {},
   "outputs": [
    {
     "name": "stdout",
     "output_type": "stream",
     "text": [
      "policy 1 stats: \n",
      "player busts:  20.2295 %\n",
      "player loses:  20.518700000000003 %\n",
      "draw:  18.584600000000002 %\n",
      "player wins:  23.9096 %\n",
      "dealer busts:  16.7576 %\n"
     ]
    }
   ],
   "source": [
    "print('policy 1 stats: ')\n",
    "p1_array = stats_data(p1)"
   ]
  },
  {
   "cell_type": "code",
   "execution_count": 25,
   "metadata": {},
   "outputs": [
    {
     "data": {
      "image/png": "[encoded data removed]",
      "text/plain": [
       "<Figure size 432x288 with 1 Axes>"
      ]
     },
     "metadata": {
      "needs_background": "light"
     },
     "output_type": "display_data"
    }
   ],
   "source": [
    "objects = ('Player Bust', 'Dealer Wins', 'Draw', 'Player Wins', 'Dealer Busts')\n",
    "y_pos = np.arange(len(objects))\n",
    "performance = p1_array\n",
    " \n",
    "plt.bar(y_pos, performance, align='center', alpha=0.5)\n",
    "plt.xticks(y_pos, objects)\n",
    "plt.ylabel('Percent')\n",
    "plt.title('Policy 1 Outcomes')\n",
    " \n",
    "plt.show()"
   ]
  },
  {
   "cell_type": "code",
   "execution_count": 26,
   "metadata": {},
   "outputs": [],
   "source": [
    "p2 = get_stats_mod(policy_1, 1000000)"
   ]
  },
  {
   "cell_type": "code",
   "execution_count": 27,
   "metadata": {},
   "outputs": [
    {
     "name": "stdout",
     "output_type": "stream",
     "text": [
      "policy 2 stats: \n",
      "player busts:  20.1767 %\n",
      "player loses:  20.548 %\n",
      "draw:  18.398 %\n",
      "player wins:  24.0261 %\n",
      "dealer busts:  16.8512 %\n"
     ]
    }
   ],
   "source": [
    "print('policy 2 stats: ')\n",
    "p2_array = stats_data(p2)"
   ]
  },
  {
   "cell_type": "code",
   "execution_count": 53,
   "metadata": {},
   "outputs": [
    {
     "data": {
      "image/png": "[encoded data removed]",
      "text/plain": [
       "<Figure size 432x288 with 1 Axes>"
      ]
     },
     "metadata": {
      "needs_background": "light"
     },
     "output_type": "display_data"
    }
   ],
   "source": [
    "objects = ('Player Bust', 'Dealer Wins', 'Draw', 'Player Wins', 'Dealer Busts')\n",
    "y_pos = np.arange(len(objects))\n",
    "performance = p2_array\n",
    " \n",
    "plt.bar(y_pos, performance, align='center', alpha=0.5, color=\"darkblue\")\n",
    "plt.xticks(y_pos, objects)\n",
    "plt.ylabel('Percent')\n",
    "plt.title('Policy 2 Outcomes')\n",
    " \n",
    "plt.show()"
   ]
  },
  {
   "cell_type": "code",
   "execution_count": 29,
   "metadata": {},
   "outputs": [],
   "source": [
    "p3 = get_stats_mod(policy_3, 1000000)"
   ]
  },
  {
   "cell_type": "code",
   "execution_count": 30,
   "metadata": {},
   "outputs": [
    {
     "name": "stdout",
     "output_type": "stream",
     "text": [
      "policy 3 stats: \n",
      "player busts:  20.7741 %\n",
      "player loses:  20.0407 %\n",
      "draw:  18.529200000000003 %\n",
      "player wins:  24.1225 %\n",
      "dealer busts:  16.5335 %\n"
     ]
    }
   ],
   "source": [
    "print('policy 3 stats: ')\n",
    "p3_array = stats_data(p3)"
   ]
  },
  {
   "cell_type": "code",
   "execution_count": 52,
   "metadata": {},
   "outputs": [
    {
     "data": {
      "image/png": "[encoded data removed]",
      "text/plain": [
       "<Figure size 432x288 with 1 Axes>"
      ]
     },
     "metadata": {
      "needs_background": "light"
     },
     "output_type": "display_data"
    }
   ],
   "source": [
    "objects = ('Player Bust', 'Dealer Wins', 'Draw', 'Player Wins', 'Dealer Busts')\n",
    "y_pos = np.arange(len(objects))\n",
    "performance = p3_array\n",
    " \n",
    "plt.bar(y_pos, performance, align='center', alpha=0.5, color=\"purple\")\n",
    "plt.xticks(y_pos, objects)\n",
    "plt.ylabel('Percent')\n",
    "plt.title('Policy 3 Outcomes')\n",
    " \n",
    "plt.show()"
   ]
  },
  {
   "cell_type": "code",
   "execution_count": 32,
   "metadata": {},
   "outputs": [],
   "source": [
    "p4 = get_stats_mod(policy_4, 1000000)"
   ]
  },
  {
   "cell_type": "code",
   "execution_count": 33,
   "metadata": {},
   "outputs": [
    {
     "name": "stdout",
     "output_type": "stream",
     "text": [
      "policy 4 stats: \n",
      "player busts:  0.0 %\n",
      "player loses:  56.69539999999999 %\n",
      "draw:  5.2336 %\n",
      "player wins:  11.235199999999999 %\n",
      "dealer busts:  26.8358 %\n"
     ]
    }
   ],
   "source": [
    "print('policy 4 stats: ')\n",
    "p4_array = stats_data(p4)"
   ]
  },
  {
   "cell_type": "code",
   "execution_count": 51,
   "metadata": {},
   "outputs": [
    {
     "data": {
      "image/png": "[encoded data removed]",
      "text/plain": [
       "<Figure size 432x288 with 1 Axes>"
      ]
     },
     "metadata": {
      "needs_background": "light"
     },
     "output_type": "display_data"
    }
   ],
   "source": [
    "objects = ('Player Bust', 'Dealer Wins', 'Draw', 'Player Wins', 'Dealer Busts')\n",
    "y_pos = np.arange(len(objects))\n",
    "performance = p4_array\n",
    " \n",
    "plt.bar(y_pos, performance, align='center', alpha=0.5, color='pink')\n",
    "plt.xticks(y_pos, objects)\n",
    "plt.ylabel('Percent')\n",
    "plt.title('Policy 4 Outcomes')\n",
    " \n",
    "plt.show()"
   ]
  },
  {
   "cell_type": "code",
   "execution_count": 36,
   "metadata": {},
   "outputs": [],
   "source": [
    "p5 = get_stats_mod(policy_5, 1000000)"
   ]
  },
  {
   "cell_type": "code",
   "execution_count": 37,
   "metadata": {},
   "outputs": [
    {
     "name": "stdout",
     "output_type": "stream",
     "text": [
      "policy 5 stats: \n",
      "player busts:  12.814400000000001 %\n",
      "player loses:  33.027499999999996 %\n",
      "draw:  12.048499999999999 %\n",
      "player wins:  19.9475 %\n",
      "dealer busts:  22.162100000000002 %\n"
     ]
    }
   ],
   "source": [
    "print('policy 5 stats: ')\n",
    "p5_array = stats_data(p5)"
   ]
  },
  {
   "cell_type": "code",
   "execution_count": 49,
   "metadata": {},
   "outputs": [
    {
     "data": {
      "image/png": "[encoded data removed]",
      "text/plain": [
       "<Figure size 432x288 with 1 Axes>"
      ]
     },
     "metadata": {
      "needs_background": "light"
     },
     "output_type": "display_data"
    }
   ],
   "source": [
    "objects = ('Player Bust', 'Dealer Wins', 'Draw', 'Player Wins', 'Dealer Busts')\n",
    "y_pos = np.arange(len(objects))\n",
    "performance = p5_array\n",
    " \n",
    "plt.bar(y_pos, performance, align='center', alpha=0.5, color='y')\n",
    "plt.xticks(y_pos, objects)\n",
    "plt.ylabel('Percent')\n",
    "plt.title('Policy 5 Outcomes')\n",
    " \n",
    "plt.show()"
   ]
  },
  {
   "cell_type": "code",
   "execution_count": 39,
   "metadata": {},
   "outputs": [],
   "source": [
    "p6 = get_stats_mod(policy_6, 1000000)"
   ]
  },
  {
   "cell_type": "code",
   "execution_count": 40,
   "metadata": {
    "scrolled": true
   },
   "outputs": [
    {
     "name": "stdout",
     "output_type": "stream",
     "text": [
      "policy 6 stats: \n",
      "player busts:  12.369299999999999 %\n",
      "player loses:  33.1055 %\n",
      "draw:  12.1064 %\n",
      "player wins:  20.01 %\n",
      "dealer busts:  22.4088 %\n"
     ]
    }
   ],
   "source": [
    "print('policy 6 stats: ')\n",
    "p6_array = stats_data(p6)"
   ]
  },
  {
   "cell_type": "code",
   "execution_count": 48,
   "metadata": {},
   "outputs": [
    {
     "data": {
      "image/png": "[encoded data removed]",
      "text/plain": [
       "<Figure size 432x288 with 1 Axes>"
      ]
     },
     "metadata": {
      "needs_background": "light"
     },
     "output_type": "display_data"
    }
   ],
   "source": [
    "objects = ('Player Bust', 'Dealer Wins', 'Draw', 'Player Wins', 'Dealer Busts')\n",
    "y_pos = np.arange(len(objects))\n",
    "performance = p6_array\n",
    " \n",
    "plt.bar(y_pos, performance, align='center', alpha=0.5, color='g')\n",
    "plt.xticks(y_pos, objects)\n",
    "plt.ylabel('Percent')\n",
    "plt.title('Policy 6 Outcomes')\n",
    " \n",
    "plt.show()"
   ]
  },
  {
   "cell_type": "code",
   "execution_count": 44,
   "metadata": {},
   "outputs": [],
   "source": [
    "p7 = get_stats_mod(policy_7, 1000000)"
   ]
  },
  {
   "cell_type": "code",
   "execution_count": 45,
   "metadata": {
    "scrolled": true
   },
   "outputs": [
    {
     "name": "stdout",
     "output_type": "stream",
     "text": [
      "policy 7 stats: \n",
      "player busts:  12.101199999999999 %\n",
      "player loses:  33.4641 %\n",
      "draw:  12.1606 %\n",
      "player wins:  19.6829 %\n",
      "dealer busts:  22.5912 %\n"
     ]
    }
   ],
   "source": [
    "print('policy 7 stats: ')\n",
    "p7_array = stats_data(p7)"
   ]
  },
  {
   "cell_type": "code",
   "execution_count": 47,
   "metadata": {},
   "outputs": [
    {
     "data": {
      "image/png": "[encoded data removed]",
      "text/plain": [
       "<Figure size 432x288 with 1 Axes>"
      ]
     },
     "metadata": {
      "needs_background": "light"
     },
     "output_type": "display_data"
    }
   ],
   "source": [
    "objects = ('Player Bust', 'Dealer Wins', 'Draw', 'Player Wins', 'Dealer Busts')\n",
    "y_pos = np.arange(len(objects))\n",
    "performance = p7_array\n",
    " \n",
    "plt.bar(y_pos, performance, align='center', alpha=0.5, color='r')\n",
    "plt.xticks(y_pos, objects)\n",
    "plt.ylabel('Percent')\n",
    "plt.title('Policy 7 Outcomes')\n",
    " \n",
    "plt.show()"
   ]
  },
  {
   "cell_type": "code",
   "execution_count": null,
   "metadata": {},
   "outputs": [],
   "source": []
  }
 ],
 "metadata": {
  "kernelspec": {
   "display_name": "Python 3",
   "language": "python",
   "name": "python3"
  },
  "language_info": {
   "codemirror_mode": {
    "name": "ipython",
    "version": 3
   },
   "file_extension": ".py",
   "mimetype": "text/x-python",
   "name": "python",
   "nbconvert_exporter": "python",
   "pygments_lexer": "ipython3",
   "version": "3.7.3"
  }
 },
 "nbformat": 4,
 "nbformat_minor": 2
}
