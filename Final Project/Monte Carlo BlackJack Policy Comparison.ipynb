{
 "cells": [
  {
   "cell_type": "code",
   "execution_count": 1,
   "metadata": {},
   "outputs": [],
   "source": [
    "#Import main\n",
    "from main import *"
   ]
  },
  {
   "cell_type": "code",
   "execution_count": 2,
   "metadata": {},
   "outputs": [],
   "source": [
    "import seaborn as sns\n",
    "import matplotlib.pyplot as plt\n",
    "from scipy.stats import norm\n",
    "import numpy as np\n",
    "import pandas as pd"
   ]
  },
  {
   "cell_type": "code",
   "execution_count": 3,
   "metadata": {},
   "outputs": [],
   "source": [
    "p1 = get_stats(policy_1, 1000000)\n",
    "p2 = get_stats(policy_2, 1000000)\n",
    "p3 = get_stats(policy_3, 1000000)\n",
    "p4 = get_stats(policy_4, 1000000)\n",
    "p5 = get_stats(policy_5, 1000000)\n",
    "p6 = get_stats(policy_6, 1000000)"
   ]
  },
  {
   "cell_type": "code",
   "execution_count": 4,
   "metadata": {},
   "outputs": [],
   "source": [
    "p1_wins = p1['P_Wins']/p1['num_of_tests']*100\n",
    "p2_wins = p2['P_Wins']/p2['num_of_tests']*100\n",
    "p3_wins = p3['P_Wins']/p3['num_of_tests']*100\n",
    "p4_wins = p4['P_Wins']/p4['num_of_tests']*100\n",
    "p5_wins = p5['P_Wins']/p5['num_of_tests']*100\n",
    "p6_wins = p6['P_Wins']/p6['num_of_tests']*100\n",
    "all_wins = [p1_wins, p2_wins, p3_wins, p4_wins, p5_wins, p6_wins]"
   ]
  },
  {
   "cell_type": "code",
   "execution_count": 5,
   "metadata": {},
   "outputs": [
    {
     "data": {
      "text/plain": [
       "<matplotlib.axes._subplots.AxesSubplot at 0x7f3f28901be0>"
      ]
     },
     "execution_count": 5,
     "metadata": {},
     "output_type": "execute_result"
    },
    {
     "data": {
      "image/png": "[encoded data removed]",
      "text/plain": [
       "<Figure size 432x288 with 1 Axes>"
      ]
     },
     "metadata": {
      "needs_background": "light"
     },
     "output_type": "display_data"
    }
   ],
   "source": [
    "sns.distplot(all_wins)"
   ]
  },
  {
   "cell_type": "code",
   "execution_count": 6,
   "metadata": {},
   "outputs": [],
   "source": [
    "#Display stats for different policies\n",
    "def stats_data(policy_stats):\n",
    "    stats_p1 = [0,0,0,0,0]\n",
    "    for i in policy_stats:\n",
    "        if i == -2:\n",
    "            stats_p1[0] += 1\n",
    "        elif i == -1:\n",
    "            stats_p1[1] += 1\n",
    "        elif i == 0:\n",
    "            stats_p1[2] += 1\n",
    "        elif i == 1:\n",
    "            stats_p1[3] += 1\n",
    "        elif i == 2:\n",
    "            stats_p1[4] += 1\n",
    "    stats_percent = []\n",
    "    stats_percent.append(stats_p1[0] / len(policy_stats) * 100)\n",
    "    stats_percent.append(stats_p1[1] / len(policy_stats) * 100)\n",
    "    stats_percent.append(stats_p1[2] / len(policy_stats) * 100)\n",
    "    stats_percent.append(stats_p1[3] / len(policy_stats) * 100)\n",
    "    stats_percent.append(stats_p1[4] / len(policy_stats) * 100)\n",
    "    print('player busts: ',stats_percent[0], '%')\n",
    "    print('player loses: ', stats_percent[1] , '%')\n",
    "    print('draw: ', stats_percent[2] , '%')\n",
    "    print('player wins: ', stats_percent[3] , '%')\n",
    "    print('dealer busts: ', stats_percent[4] , '%')\n",
    "    return stats_percent"
   ]
  },
  {
   "cell_type": "code",
   "execution_count": 7,
   "metadata": {},
   "outputs": [],
   "source": [
    "#Policy 1\n",
    "p1 = get_stats_mod(policy_1, 1000000)"
   ]
  },
  {
   "cell_type": "code",
   "execution_count": 8,
   "metadata": {},
   "outputs": [
    {
     "name": "stdout",
     "output_type": "stream",
     "text": [
      "policy 1 stats: \n",
      "player busts:  20.2255 %\n",
      "player loses:  20.5728 %\n",
      "draw:  18.4922 %\n",
      "player wins:  23.805899999999998 %\n",
      "dealer busts:  16.9036 %\n"
     ]
    }
   ],
   "source": [
    "print('policy 1 stats: ')\n",
    "p1_array = stats_data(p1)"
   ]
  },
  {
   "cell_type": "code",
   "execution_count": 9,
   "metadata": {},
   "outputs": [
    {
     "data": {
      "image/png": "[encoded data removed]",
      "text/plain": [
       "<Figure size 432x288 with 1 Axes>"
      ]
     },
     "metadata": {
      "needs_background": "light"
     },
     "output_type": "display_data"
    }
   ],
   "source": [
    "objects = ('Player Bust', 'Dealer Wins', 'Draw', 'Player Wins', 'Dealer Busts')\n",
    "y_pos = np.arange(len(objects))\n",
    "performance = p1_array\n",
    " \n",
    "plt.bar(y_pos, performance, align='center', alpha=0.5)\n",
    "plt.xticks(y_pos, objects)\n",
    "plt.ylabel('Percent')\n",
    "plt.title('Policy 1 Outcomes')\n",
    " \n",
    "plt.show()"
   ]
  },
  {
   "cell_type": "code",
   "execution_count": 10,
   "metadata": {},
   "outputs": [],
   "source": [
    "#Policy 2 Stats\n",
    "p2 = get_stats_mod(policy_1, 1000000)"
   ]
  },
  {
   "cell_type": "code",
   "execution_count": 11,
   "metadata": {},
   "outputs": [
    {
     "name": "stdout",
     "output_type": "stream",
     "text": [
      "policy 2 stats: \n",
      "player busts:  20.2898 %\n",
      "player loses:  20.5207 %\n",
      "draw:  18.439 %\n",
      "player wins:  23.9358 %\n",
      "dealer busts:  16.8147 %\n"
     ]
    }
   ],
   "source": [
    "print('policy 2 stats: ')\n",
    "p2_array = stats_data(p2)"
   ]
  },
  {
   "cell_type": "code",
   "execution_count": 12,
   "metadata": {},
   "outputs": [
    {
     "data": {
      "image/png": "[encoded data removed]",
      "text/plain": [
       "<Figure size 432x288 with 1 Axes>"
      ]
     },
     "metadata": {
      "needs_background": "light"
     },
     "output_type": "display_data"
    }
   ],
   "source": [
    "objects = ('Player Bust', 'Dealer Wins', 'Draw', 'Player Wins', 'Dealer Busts')\n",
    "y_pos = np.arange(len(objects))\n",
    "performance = p2_array\n",
    " \n",
    "plt.bar(y_pos, performance, align='center', alpha=0.5, color=\"darkblue\")\n",
    "plt.xticks(y_pos, objects)\n",
    "plt.ylabel('Percent')\n",
    "plt.title('Policy 2 Outcomes')\n",
    " \n",
    "plt.show()"
   ]
  },
  {
   "cell_type": "code",
   "execution_count": 13,
   "metadata": {},
   "outputs": [],
   "source": [
    "#Policy 3 Stats\n",
    "p3 = get_stats_mod(policy_3, 1000000)"
   ]
  },
  {
   "cell_type": "code",
   "execution_count": 14,
   "metadata": {},
   "outputs": [
    {
     "name": "stdout",
     "output_type": "stream",
     "text": [
      "policy 3 stats: \n",
      "player busts:  20.79 %\n",
      "player loses:  20.0267 %\n",
      "draw:  18.5147 %\n",
      "player wins:  24.133399999999998 %\n",
      "dealer busts:  16.5352 %\n"
     ]
    }
   ],
   "source": [
    "print('policy 3 stats: ')\n",
    "p3_array = stats_data(p3)"
   ]
  },
  {
   "cell_type": "code",
   "execution_count": 15,
   "metadata": {},
   "outputs": [
    {
     "data": {
      "image/png": "[encoded data removed]",
      "text/plain": [
       "<Figure size 432x288 with 1 Axes>"
      ]
     },
     "metadata": {
      "needs_background": "light"
     },
     "output_type": "display_data"
    }
   ],
   "source": [
    "objects = ('Player Bust', 'Dealer Wins', 'Draw', 'Player Wins', 'Dealer Busts')\n",
    "y_pos = np.arange(len(objects))\n",
    "performance = p3_array\n",
    " \n",
    "plt.bar(y_pos, performance, align='center', alpha=0.5, color=\"purple\")\n",
    "plt.xticks(y_pos, objects)\n",
    "plt.ylabel('Percent')\n",
    "plt.title('Policy 3 Outcomes')\n",
    " \n",
    "plt.show()"
   ]
  },
  {
   "cell_type": "code",
   "execution_count": 16,
   "metadata": {},
   "outputs": [],
   "source": [
    "#Policy 4 Stats\n",
    "p4 = get_stats_mod(policy_4, 1000000)"
   ]
  },
  {
   "cell_type": "code",
   "execution_count": 17,
   "metadata": {},
   "outputs": [
    {
     "name": "stdout",
     "output_type": "stream",
     "text": [
      "policy 4 stats: \n",
      "player busts:  0.0 %\n",
      "player loses:  56.772800000000004 %\n",
      "draw:  5.2579 %\n",
      "player wins:  11.2538 %\n",
      "dealer busts:  26.7155 %\n"
     ]
    }
   ],
   "source": [
    "print('policy 4 stats: ')\n",
    "p4_array = stats_data(p4)"
   ]
  },
  {
   "cell_type": "code",
   "execution_count": 18,
   "metadata": {},
   "outputs": [
    {
     "data": {
      "image/png": "[encoded data removed]",
      "text/plain": [
       "<Figure size 432x288 with 1 Axes>"
      ]
     },
     "metadata": {
      "needs_background": "light"
     },
     "output_type": "display_data"
    }
   ],
   "source": [
    "objects = ('Player Bust', 'Dealer Wins', 'Draw', 'Player Wins', 'Dealer Busts')\n",
    "y_pos = np.arange(len(objects))\n",
    "performance = p4_array\n",
    " \n",
    "plt.bar(y_pos, performance, align='center', alpha=0.5, color='pink')\n",
    "plt.xticks(y_pos, objects)\n",
    "plt.ylabel('Percent')\n",
    "plt.title('Policy 4 Outcomes')\n",
    " \n",
    "plt.show()"
   ]
  },
  {
   "cell_type": "code",
   "execution_count": 19,
   "metadata": {},
   "outputs": [],
   "source": [
    "#Policy 5 Stats\n",
    "p5 = get_stats_mod(policy_5, 1000000)"
   ]
  },
  {
   "cell_type": "code",
   "execution_count": 20,
   "metadata": {},
   "outputs": [
    {
     "name": "stdout",
     "output_type": "stream",
     "text": [
      "policy 5 stats: \n",
      "player busts:  12.828500000000002 %\n",
      "player loses:  33.129999999999995 %\n",
      "draw:  12.0766 %\n",
      "player wins:  19.944300000000002 %\n",
      "dealer busts:  22.0206 %\n"
     ]
    }
   ],
   "source": [
    "print('policy 5 stats: ')\n",
    "p5_array = stats_data(p5)"
   ]
  },
  {
   "cell_type": "code",
   "execution_count": 21,
   "metadata": {},
   "outputs": [
    {
     "data": {
      "image/png": "[encoded data removed]",
      "text/plain": [
       "<Figure size 432x288 with 1 Axes>"
      ]
     },
     "metadata": {
      "needs_background": "light"
     },
     "output_type": "display_data"
    }
   ],
   "source": [
    "objects = ('Player Bust', 'Dealer Wins', 'Draw', 'Player Wins', 'Dealer Busts')\n",
    "y_pos = np.arange(len(objects))\n",
    "performance = p5_array\n",
    " \n",
    "plt.bar(y_pos, performance, align='center', alpha=0.5, color='y')\n",
    "plt.xticks(y_pos, objects)\n",
    "plt.ylabel('Percent')\n",
    "plt.title('Policy 5 Outcomes')\n",
    " \n",
    "plt.show()"
   ]
  },
  {
   "cell_type": "code",
   "execution_count": 22,
   "metadata": {},
   "outputs": [],
   "source": [
    "#Policy 6 Stats\n",
    "p6 = get_stats_mod(policy_6, 1000000)"
   ]
  },
  {
   "cell_type": "code",
   "execution_count": 23,
   "metadata": {
    "scrolled": true
   },
   "outputs": [
    {
     "name": "stdout",
     "output_type": "stream",
     "text": [
      "policy 6 stats: \n",
      "player busts:  12.3497 %\n",
      "player loses:  33.1978 %\n",
      "draw:  12.1249 %\n",
      "player wins:  20.0782 %\n",
      "dealer busts:  22.2494 %\n"
     ]
    }
   ],
   "source": [
    "print('policy 6 stats: ')\n",
    "p6_array = stats_data(p6)"
   ]
  },
  {
   "cell_type": "code",
   "execution_count": 24,
   "metadata": {},
   "outputs": [
    {
     "data": {
      "image/png": "[encoded data removed]",
      "text/plain": [
       "<Figure size 432x288 with 1 Axes>"
      ]
     },
     "metadata": {
      "needs_background": "light"
     },
     "output_type": "display_data"
    }
   ],
   "source": [
    "objects = ('Player Bust', 'Dealer Wins', 'Draw', 'Player Wins', 'Dealer Busts')\n",
    "y_pos = np.arange(len(objects))\n",
    "performance = p6_array\n",
    " \n",
    "plt.bar(y_pos, performance, align='center', alpha=0.5, color='g')\n",
    "plt.xticks(y_pos, objects)\n",
    "plt.ylabel('Percent')\n",
    "plt.title('Policy 6 Outcomes')\n",
    " \n",
    "plt.show()"
   ]
  },
  {
   "cell_type": "code",
   "execution_count": 25,
   "metadata": {},
   "outputs": [],
   "source": [
    "#Policy 7 Stats .25 %\n",
    "p7_25 = get_stats_mod(policy_7_25, 1000000)"
   ]
  },
  {
   "cell_type": "code",
   "execution_count": 26,
   "metadata": {
    "scrolled": true
   },
   "outputs": [
    {
     "name": "stdout",
     "output_type": "stream",
     "text": [
      "policy 7 stats: \n",
      "player busts:  27.1476 %\n",
      "player loses:  13.283800000000001 %\n",
      "draw:  19.694 %\n",
      "player wins:  26.075599999999998 %\n",
      "dealer busts:  13.799 %\n"
     ]
    }
   ],
   "source": [
    "print('policy 7 stats: ')\n",
    "p7_array = stats_data(p7_25)"
   ]
  },
  {
   "cell_type": "code",
   "execution_count": 27,
   "metadata": {},
   "outputs": [
    {
     "data": {
      "image/png": "[encoded data removed]",
      "text/plain": [
       "<Figure size 432x288 with 1 Axes>"
      ]
     },
     "metadata": {
      "needs_background": "light"
     },
     "output_type": "display_data"
    }
   ],
   "source": [
    "objects = ('Player Bust', 'Dealer Wins', 'Draw', 'Player Wins', 'Dealer Busts')\n",
    "y_pos = np.arange(len(objects))\n",
    "performance = p7_array\n",
    " \n",
    "plt.bar(y_pos, performance, align='center', alpha=0.5, color='r')\n",
    "plt.xticks(y_pos, objects)\n",
    "plt.ylabel('Percent')\n",
    "plt.title('Policy 7 (finite) 25% Outcomes')\n",
    " \n",
    "plt.show()"
   ]
  },
  {
   "cell_type": "code",
   "execution_count": 28,
   "metadata": {},
   "outputs": [],
   "source": [
    "#Policy 7 Stats 75 %\n",
    "p7_75 = get_stats_mod(policy_7_75, 1000000)"
   ]
  },
  {
   "cell_type": "code",
   "execution_count": 29,
   "metadata": {
    "scrolled": true
   },
   "outputs": [
    {
     "name": "stdout",
     "output_type": "stream",
     "text": [
      "policy 7 stats: \n",
      "player busts:  0.0 %\n",
      "player loses:  51.831799999999994 %\n",
      "draw:  6.8407 %\n",
      "player wins:  15.075 %\n",
      "dealer busts:  26.2525 %\n"
     ]
    }
   ],
   "source": [
    "print('policy 7 stats: ')\n",
    "p7_array = stats_data(p7_75)"
   ]
  },
  {
   "cell_type": "code",
   "execution_count": 30,
   "metadata": {},
   "outputs": [
    {
     "data": {
      "image/png": "[encoded data removed]",
      "text/plain": [
       "<Figure size 432x288 with 1 Axes>"
      ]
     },
     "metadata": {
      "needs_background": "light"
     },
     "output_type": "display_data"
    }
   ],
   "source": [
    "objects = ('Player Bust', 'Dealer Wins', 'Draw', 'Player Wins', 'Dealer Busts')\n",
    "y_pos = np.arange(len(objects))\n",
    "performance = p7_array\n",
    " \n",
    "plt.bar(y_pos, performance, align='center', alpha=0.5, color='darkblue')\n",
    "plt.xticks(y_pos, objects)\n",
    "plt.ylabel('Percent')\n",
    "plt.title('Policy 7 (finite) 75% Outcomes')\n",
    " \n",
    "plt.show()"
   ]
  },
  {
   "cell_type": "code",
   "execution_count": 31,
   "metadata": {},
   "outputs": [],
   "source": [
    "#Infinite Case, Global Finite is Now false\n",
    "finite = False"
   ]
  },
  {
   "cell_type": "code",
   "execution_count": 32,
   "metadata": {},
   "outputs": [],
   "source": [
    "p1_infinite = get_stats_mod(policy_1, 1000000)"
   ]
  },
  {
   "cell_type": "code",
   "execution_count": 33,
   "metadata": {},
   "outputs": [
    {
     "name": "stdout",
     "output_type": "stream",
     "text": [
      "policy 2 stats: \n",
      "player busts:  20.177300000000002 %\n",
      "player loses:  20.6055 %\n",
      "draw:  18.4494 %\n",
      "player wins:  23.8757 %\n",
      "dealer busts:  16.8921 %\n"
     ]
    }
   ],
   "source": [
    "print('policy 2 stats: ')\n",
    "p1_array_inf = stats_data(p1_infinite)"
   ]
  },
  {
   "cell_type": "code",
   "execution_count": 34,
   "metadata": {},
   "outputs": [
    {
     "data": {
      "image/png": "[encoded data removed]",
      "text/plain": [
       "<Figure size 432x288 with 1 Axes>"
      ]
     },
     "metadata": {
      "needs_background": "light"
     },
     "output_type": "display_data"
    }
   ],
   "source": [
    "objects = ('Player Bust', 'Dealer Wins', 'Draw', 'Player Wins', 'Dealer Busts')\n",
    "y_pos = np.arange(len(objects))\n",
    "performance = p1_array_inf\n",
    " \n",
    "plt.bar(y_pos, performance, align='center', alpha=0.5)\n",
    "plt.xticks(y_pos, objects)\n",
    "plt.ylabel('Percent')\n",
    "plt.title('Policy 1 (infinite) Outcomes')\n",
    " \n",
    "plt.show()"
   ]
  },
  {
   "cell_type": "code",
   "execution_count": 35,
   "metadata": {},
   "outputs": [],
   "source": [
    "p2_inf = get_stats_mod(policy_2, 1000000)"
   ]
  },
  {
   "cell_type": "code",
   "execution_count": 36,
   "metadata": {},
   "outputs": [
    {
     "name": "stdout",
     "output_type": "stream",
     "text": [
      "policy 2 stats: \n",
      "player busts:  21.5477 %\n",
      "player loses:  19.672600000000003 %\n",
      "draw:  18.6666 %\n",
      "player wins:  24.063599999999997 %\n",
      "dealer busts:  16.0495 %\n"
     ]
    }
   ],
   "source": [
    "print('policy 2 stats: ')\n",
    "p2_array_inf = stats_data(p2_inf)"
   ]
  },
  {
   "cell_type": "code",
   "execution_count": 37,
   "metadata": {},
   "outputs": [
    {
     "data": {
      "image/png": "[encoded data removed]",
      "text/plain": [
       "<Figure size 432x288 with 1 Axes>"
      ]
     },
     "metadata": {
      "needs_background": "light"
     },
     "output_type": "display_data"
    }
   ],
   "source": [
    "objects = ('Player Bust', 'Dealer Wins', 'Draw', 'Player Wins', 'Dealer Busts')\n",
    "y_pos = np.arange(len(objects))\n",
    "performance = p2_array_inf\n",
    " \n",
    "plt.bar(y_pos, performance, align='center', alpha=0.5, color=\"darkblue\")\n",
    "plt.xticks(y_pos, objects)\n",
    "plt.ylabel('Percent')\n",
    "plt.title('Policy 2 (infinite) Outcomes')\n",
    " \n",
    "plt.show()"
   ]
  },
  {
   "cell_type": "code",
   "execution_count": 38,
   "metadata": {},
   "outputs": [],
   "source": [
    "p3_inf = get_stats_mod(policy_3, 1000000)"
   ]
  },
  {
   "cell_type": "code",
   "execution_count": 39,
   "metadata": {},
   "outputs": [
    {
     "name": "stdout",
     "output_type": "stream",
     "text": [
      "policy 3 stats: \n",
      "player busts:  20.715600000000002 %\n",
      "player loses:  20.075000000000003 %\n",
      "draw:  18.492900000000002 %\n",
      "player wins:  24.157400000000003 %\n",
      "dealer busts:  16.559099999999997 %\n"
     ]
    }
   ],
   "source": [
    "print('policy 3 stats: ')\n",
    "p3_array_inf = stats_data(p3_inf)"
   ]
  },
  {
   "cell_type": "code",
   "execution_count": 40,
   "metadata": {},
   "outputs": [
    {
     "data": {
      "image/png": "[encoded data removed]",
      "text/plain": [
       "<Figure size 432x288 with 1 Axes>"
      ]
     },
     "metadata": {
      "needs_background": "light"
     },
     "output_type": "display_data"
    }
   ],
   "source": [
    "objects = ('Player Bust', 'Dealer Wins', 'Draw', 'Player Wins', 'Dealer Busts')\n",
    "y_pos = np.arange(len(objects))\n",
    "performance = p3_array_inf\n",
    " \n",
    "plt.bar(y_pos, performance, align='center', alpha=0.5, color=\"purple\")\n",
    "plt.xticks(y_pos, objects)\n",
    "plt.ylabel('Percent')\n",
    "plt.title('Policy 3 (infinite) Outcomes')\n",
    " \n",
    "plt.show()"
   ]
  },
  {
   "cell_type": "code",
   "execution_count": 41,
   "metadata": {},
   "outputs": [],
   "source": [
    "p4_inf = get_stats_mod(policy_4, 1000000)"
   ]
  },
  {
   "cell_type": "code",
   "execution_count": 42,
   "metadata": {},
   "outputs": [
    {
     "name": "stdout",
     "output_type": "stream",
     "text": [
      "policy 4 stats: \n",
      "player busts:  0.0 %\n",
      "player loses:  56.6386 %\n",
      "draw:  5.2181 %\n",
      "player wins:  11.28 %\n",
      "dealer busts:  26.863300000000002 %\n"
     ]
    }
   ],
   "source": [
    "print('policy 4 stats: ')\n",
    "p4_array_inf = stats_data(p4_inf)"
   ]
  },
  {
   "cell_type": "code",
   "execution_count": 43,
   "metadata": {},
   "outputs": [
    {
     "data": {
      "image/png": "[encoded data removed]",
      "text/plain": [
       "<Figure size 432x288 with 1 Axes>"
      ]
     },
     "metadata": {
      "needs_background": "light"
     },
     "output_type": "display_data"
    }
   ],
   "source": [
    "objects = ('Player Bust', 'Dealer Wins', 'Draw', 'Player Wins', 'Dealer Busts')\n",
    "y_pos = np.arange(len(objects))\n",
    "performance = p4_array_inf\n",
    " \n",
    "plt.bar(y_pos, performance, align='center', alpha=0.5, color='pink')\n",
    "plt.xticks(y_pos, objects)\n",
    "plt.ylabel('Percent')\n",
    "plt.title('Policy 4 (infinite) Outcomes')\n",
    " \n",
    "plt.show()"
   ]
  },
  {
   "cell_type": "code",
   "execution_count": 44,
   "metadata": {},
   "outputs": [],
   "source": [
    "p5_inf = get_stats_mod(policy_5, 1000000)"
   ]
  },
  {
   "cell_type": "code",
   "execution_count": 45,
   "metadata": {},
   "outputs": [
    {
     "name": "stdout",
     "output_type": "stream",
     "text": [
      "policy 5 stats: \n",
      "player busts:  12.7777 %\n",
      "player loses:  33.1656 %\n",
      "draw:  12.1122 %\n",
      "player wins:  19.9688 %\n",
      "dealer busts:  21.9757 %\n"
     ]
    }
   ],
   "source": [
    "print('policy 5 stats: ')\n",
    "p5_array_inf = stats_data(p5_inf)"
   ]
  },
  {
   "cell_type": "code",
   "execution_count": 46,
   "metadata": {},
   "outputs": [
    {
     "data": {
      "image/png": "[encoded data removed]",
      "text/plain": [
       "<Figure size 432x288 with 1 Axes>"
      ]
     },
     "metadata": {
      "needs_background": "light"
     },
     "output_type": "display_data"
    }
   ],
   "source": [
    "objects = ('Player Bust', 'Dealer Wins', 'Draw', 'Player Wins', 'Dealer Busts')\n",
    "y_pos = np.arange(len(objects))\n",
    "performance = p5_array_inf\n",
    " \n",
    "plt.bar(y_pos, performance, align='center', alpha=0.5, color='y')\n",
    "plt.xticks(y_pos, objects)\n",
    "plt.ylabel('Percent')\n",
    "plt.title('Policy 5 (infinite) Outcomes')\n",
    " \n",
    "plt.show()"
   ]
  },
  {
   "cell_type": "code",
   "execution_count": 47,
   "metadata": {},
   "outputs": [],
   "source": [
    "p6_inf = get_stats_mod(policy_6, 1000000)"
   ]
  },
  {
   "cell_type": "code",
   "execution_count": 48,
   "metadata": {
    "scrolled": true
   },
   "outputs": [
    {
     "name": "stdout",
     "output_type": "stream",
     "text": [
      "policy 6 stats: \n",
      "player busts:  12.373199999999999 %\n",
      "player loses:  33.1764 %\n",
      "draw:  12.094199999999999 %\n",
      "player wins:  20.025599999999997 %\n",
      "dealer busts:  22.3306 %\n"
     ]
    }
   ],
   "source": [
    "print('policy 6 stats: ')\n",
    "p6_array_inf = stats_data(p6_inf)"
   ]
  },
  {
   "cell_type": "code",
   "execution_count": 49,
   "metadata": {},
   "outputs": [
    {
     "data": {
      "image/png": "[encoded data removed]",
      "text/plain": [
       "<Figure size 432x288 with 1 Axes>"
      ]
     },
     "metadata": {
      "needs_background": "light"
     },
     "output_type": "display_data"
    }
   ],
   "source": [
    "objects = ('Player Bust', 'Dealer Wins', 'Draw', 'Player Wins', 'Dealer Busts')\n",
    "y_pos = np.arange(len(objects))\n",
    "performance = p6_array_inf\n",
    " \n",
    "plt.bar(y_pos, performance, align='center', alpha=0.5, color='g')\n",
    "plt.xticks(y_pos, objects)\n",
    "plt.ylabel('Percent')\n",
    "plt.title('Policy 6 (infinite) Outcomes')\n",
    " \n",
    "plt.show()"
   ]
  },
  {
   "cell_type": "code",
   "execution_count": 50,
   "metadata": {},
   "outputs": [],
   "source": [
    "#Policy 7 25%\n",
    "p7_inf_25 = get_stats_mod(policy_7_25, 1000000)"
   ]
  },
  {
   "cell_type": "code",
   "execution_count": 51,
   "metadata": {
    "scrolled": true
   },
   "outputs": [
    {
     "name": "stdout",
     "output_type": "stream",
     "text": [
      "policy 7 25% stats: \n",
      "player busts:  27.231300000000005 %\n",
      "player loses:  13.2021 %\n",
      "draw:  19.7318 %\n",
      "player wins:  25.9681 %\n",
      "dealer busts:  13.866700000000002 %\n"
     ]
    }
   ],
   "source": [
    "print('policy 7 25% stats: ')\n",
    "p7_array_inf = stats_data(p7_inf_25)"
   ]
  },
  {
   "cell_type": "code",
   "execution_count": 52,
   "metadata": {},
   "outputs": [
    {
     "data": {
      "image/png": "[encoded data removed]",
      "text/plain": [
       "<Figure size 432x288 with 1 Axes>"
      ]
     },
     "metadata": {
      "needs_background": "light"
     },
     "output_type": "display_data"
    }
   ],
   "source": [
    "objects = ('Player Bust', 'Dealer Wins', 'Draw', 'Player Wins', 'Dealer Busts')\n",
    "y_pos = np.arange(len(objects))\n",
    "performance = p7_array_inf\n",
    " \n",
    "plt.bar(y_pos, performance, align='center', alpha=0.5, color='r')\n",
    "plt.xticks(y_pos, objects)\n",
    "plt.ylabel('Percent')\n",
    "plt.title('Policy 7 (infinite) 25% Outcomes')\n",
    " \n",
    "plt.show()"
   ]
  },
  {
   "cell_type": "code",
   "execution_count": 53,
   "metadata": {},
   "outputs": [],
   "source": [
    "#Policy 7 75% outcome\n",
    "p7_75 = get_stats_mod(policy_7_75, 1000000)"
   ]
  },
  {
   "cell_type": "code",
   "execution_count": 54,
   "metadata": {},
   "outputs": [
    {
     "name": "stdout",
     "output_type": "stream",
     "text": [
      "policy 7 stats: \n",
      "player busts:  0.0 %\n",
      "player loses:  51.8853 %\n",
      "draw:  6.8444 %\n",
      "player wins:  15.0563 %\n",
      "dealer busts:  26.214 %\n"
     ]
    }
   ],
   "source": [
    "print('policy 7 stats: ')\n",
    "p7_array = stats_data(p7_75)"
   ]
  },
  {
   "cell_type": "code",
   "execution_count": 55,
   "metadata": {},
   "outputs": [
    {
     "data": {
      "image/png": "[encoded data removed]",
      "text/plain": [
       "<Figure size 432x288 with 1 Axes>"
      ]
     },
     "metadata": {
      "needs_background": "light"
     },
     "output_type": "display_data"
    }
   ],
   "source": [
    "objects = ('Player Bust', 'Dealer Wins', 'Draw', 'Player Wins', 'Dealer Busts')\n",
    "y_pos = np.arange(len(objects))\n",
    "performance = p7_array\n",
    " \n",
    "plt.bar(y_pos, performance, align='center', alpha=0.5, color='darkblue')\n",
    "plt.xticks(y_pos, objects)\n",
    "plt.ylabel('Percent')\n",
    "plt.title('Policy 7 (infinite) 75% Outcomes')\n",
    " \n",
    "plt.show()"
   ]
  }
 ],
 "metadata": {
  "kernelspec": {
   "display_name": "Python 3",
   "language": "python",
   "name": "python3"
  },
  "language_info": {
   "codemirror_mode": {
    "name": "ipython",
    "version": 3
   },
   "file_extension": ".py",
   "mimetype": "text/x-python",
   "name": "python",
   "nbconvert_exporter": "python",
   "pygments_lexer": "ipython3",
   "version": "3.6.7"
  }
 },
 "nbformat": 4,
 "nbformat_minor": 2
}
