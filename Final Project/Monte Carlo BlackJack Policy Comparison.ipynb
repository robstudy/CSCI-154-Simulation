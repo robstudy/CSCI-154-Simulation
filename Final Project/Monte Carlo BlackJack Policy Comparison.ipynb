{
 "cells": [
  {
   "cell_type": "code",
   "execution_count": 4,
   "metadata": {},
   "outputs": [],
   "source": [
    "#Import main\n",
    "from main import *"
   ]
  },
  {
   "cell_type": "code",
   "execution_count": 5,
   "metadata": {},
   "outputs": [],
   "source": [
    "import seaborn as sns\n",
    "from scipy.stats import norm"
   ]
  },
  {
   "cell_type": "code",
   "execution_count": 3,
   "metadata": {},
   "outputs": [],
   "source": [
    "p1 = get_stats(policy_1, 1000000)\n",
    "p2 = get_stats(policy_2, 1000000)\n",
    "p3 = get_stats(policy_3, 1000000)\n",
    "p4 = get_stats(policy_4, 1000000)\n",
    "p5 = get_stats(policy_5, 1000000)\n",
    "p6 = get_stats(policy_6, 1000000)\n",
    "p7 = get_stats(policy_7, 1000000)"
   ]
  },
  {
   "cell_type": "code",
   "execution_count": 7,
   "metadata": {},
   "outputs": [],
   "source": [
    "p1_wins = p1['P_Wins']/p1['num_of_tests']*100\n",
    "p2_wins = p2['P_Wins']/p2['num_of_tests']*100\n",
    "p3_wins = p3['P_Wins']/p3['num_of_tests']*100\n",
    "p4_wins = p4['P_Wins']/p4['num_of_tests']*100\n",
    "p5_wins = p5['P_Wins']/p5['num_of_tests']*100\n",
    "p6_wins = p6['P_Wins']/p6['num_of_tests']*100\n",
    "p7_wins = p7['P_Wins']/p7['num_of_tests']*100\n",
    "all_wins = [p1_wins, p2_wins, p3_wins, p4_wins, p5_wins, p6_wins, p7_wins]"
   ]
  },
  {
   "cell_type": "code",
   "execution_count": 9,
   "metadata": {},
   "outputs": [
    {
     "data": {
      "text/plain": [
       "<matplotlib.axes._subplots.AxesSubplot at 0x7fb7708094e0>"
      ]
     },
     "execution_count": 9,
     "metadata": {},
     "output_type": "execute_result"
    },
    {
     "data": {
      "image/png": "[encoded data removed]",
      "text/plain": [
       "<Figure size 432x288 with 1 Axes>"
      ]
     },
     "metadata": {
      "needs_background": "light"
     },
     "output_type": "display_data"
    }
   ],
   "source": [
    "sns.distplot(all_wins)"
   ]
  },
  {
   "cell_type": "code",
   "execution_count": 6,
   "metadata": {},
   "outputs": [],
   "source": [
    "p1 = get_stats_mod(policy_1, 1000000)"
   ]
  },
  {
   "cell_type": "code",
   "execution_count": 17,
   "metadata": {},
   "outputs": [],
   "source": [
    "def stats_data(policy_stats):\n",
    "    stats_p1 = [0,0,0,0,0]\n",
    "    for i in policy_stats:\n",
    "        if i == -2:\n",
    "            stats_p1[0] += 1\n",
    "        elif i == -1:\n",
    "            stats_p1[1] += 1\n",
    "        elif i == 0:\n",
    "            stats_p1[2] += 1\n",
    "        elif i == 1:\n",
    "            stats_p1[3] += 1\n",
    "        elif i == 2:\n",
    "            stats_p1[4] += 1\n",
    "\n",
    "    print('player busts: ',stats_p1[0] / len(p1) * 100, '%')\n",
    "    print('player loses: ', stats_p1[1] / len(p1) * 100, '%')\n",
    "    print('draw: ', stats_p1[2] / len(p1) * 100, '%')\n",
    "    print('player wins: ', stats_p1[3] / len(p1) * 100, '%')\n",
    "    print('dealer busts: ', stats_p1[4] / len(p1) * 100, '%')"
   ]
  },
  {
   "cell_type": "code",
   "execution_count": 19,
   "metadata": {},
   "outputs": [
    {
     "name": "stdout",
     "output_type": "stream",
     "text": [
      "policy 1 stats: \n",
      "player busts:  20.2177 %\n",
      "player loses:  20.5784 %\n",
      "draw:  18.4578 %\n",
      "player wins:  23.9323 %\n",
      "dealer busts:  16.8138 %\n"
     ]
    }
   ],
   "source": [
    "print('policy 1 stats: ')\n",
    "stats_data(p1)"
   ]
  },
  {
   "cell_type": "code",
   "execution_count": 20,
   "metadata": {},
   "outputs": [],
   "source": [
    "p2 = get_stats_mod(policy_1, 1000000)"
   ]
  },
  {
   "cell_type": "code",
   "execution_count": 21,
   "metadata": {},
   "outputs": [
    {
     "name": "stdout",
     "output_type": "stream",
     "text": [
      "policy 2 stats: \n",
      "player busts:  20.272100000000002 %\n",
      "player loses:  20.519299999999998 %\n",
      "draw:  18.4919 %\n",
      "player wins:  23.884 %\n",
      "dealer busts:  16.8327 %\n"
     ]
    }
   ],
   "source": [
    "print('policy 2 stats: ')\n",
    "stats_data(p2)"
   ]
  },
  {
   "cell_type": "code",
   "execution_count": 22,
   "metadata": {},
   "outputs": [],
   "source": [
    "p3 = get_stats_mod(policy_3, 1000000)"
   ]
  },
  {
   "cell_type": "code",
   "execution_count": 23,
   "metadata": {},
   "outputs": [
    {
     "name": "stdout",
     "output_type": "stream",
     "text": [
      "policy 3 stats: \n",
      "player busts:  20.8795 %\n",
      "player loses:  20.0368 %\n",
      "draw:  18.4051 %\n",
      "player wins:  24.127499999999998 %\n",
      "dealer busts:  16.551099999999998 %\n"
     ]
    }
   ],
   "source": [
    "print('policy 3 stats: ')\n",
    "stats_data(p3)"
   ]
  },
  {
   "cell_type": "code",
   "execution_count": 24,
   "metadata": {},
   "outputs": [],
   "source": [
    "p4 = get_stats_mod(policy_4, 1000000)"
   ]
  },
  {
   "cell_type": "code",
   "execution_count": 25,
   "metadata": {},
   "outputs": [
    {
     "name": "stdout",
     "output_type": "stream",
     "text": [
      "policy 4 stats: \n",
      "player busts:  0.0 %\n",
      "player loses:  56.6538 %\n",
      "draw:  5.2341 %\n",
      "player wins:  11.2649 %\n",
      "dealer busts:  26.847199999999997 %\n"
     ]
    }
   ],
   "source": [
    "print('policy 4 stats: ')\n",
    "stats_data(p4)"
   ]
  },
  {
   "cell_type": "code",
   "execution_count": 26,
   "metadata": {},
   "outputs": [],
   "source": [
    "p5 = get_stats_mod(policy_5, 1000000)"
   ]
  },
  {
   "cell_type": "code",
   "execution_count": 27,
   "metadata": {},
   "outputs": [
    {
     "name": "stdout",
     "output_type": "stream",
     "text": [
      "policy 5 stats: \n",
      "player busts:  12.812100000000001 %\n",
      "player loses:  33.063500000000005 %\n",
      "draw:  12.1301 %\n",
      "player wins:  19.936999999999998 %\n",
      "dealer busts:  22.057299999999998 %\n"
     ]
    }
   ],
   "source": [
    "print('policy 5 stats: ')\n",
    "stats_data(p5)"
   ]
  },
  {
   "cell_type": "code",
   "execution_count": 33,
   "metadata": {},
   "outputs": [],
   "source": [
    "p6 = get_stats_mod(policy_6, 1000000)"
   ]
  },
  {
   "cell_type": "code",
   "execution_count": 36,
   "metadata": {},
   "outputs": [
    {
     "name": "stdout",
     "output_type": "stream",
     "text": [
      "policy 6 stats: \n",
      "player busts:  12.4395 %\n",
      "player loses:  33.1143 %\n",
      "draw:  12.092 %\n",
      "player wins:  20.008200000000002 %\n",
      "dealer busts:  22.346 %\n"
     ]
    }
   ],
   "source": [
    "print('policy 6 stats: ')\n",
    "stats_data(p6)"
   ]
  },
  {
   "cell_type": "code",
   "execution_count": 35,
   "metadata": {},
   "outputs": [],
   "source": [
    "p7 = get_stats_mod(policy_7, 1000000)"
   ]
  },
  {
   "cell_type": "code",
   "execution_count": 37,
   "metadata": {},
   "outputs": [
    {
     "name": "stdout",
     "output_type": "stream",
     "text": [
      "policy 7 stats: \n",
      "player busts:  12.084399999999999 %\n",
      "player loses:  33.5797 %\n",
      "draw:  12.118500000000001 %\n",
      "player wins:  19.6424 %\n",
      "dealer busts:  22.575 %\n"
     ]
    }
   ],
   "source": [
    "print('policy 7 stats: ')\n",
    "stats_data(p7)"
   ]
  },
  {
   "cell_type": "code",
   "execution_count": null,
   "metadata": {},
   "outputs": [],
   "source": []
  }
 ],
 "metadata": {
  "kernelspec": {
   "display_name": "Python 3",
   "language": "python",
   "name": "python3"
  },
  "language_info": {
   "codemirror_mode": {
    "name": "ipython",
    "version": 3
   },
   "file_extension": ".py",
   "mimetype": "text/x-python",
   "name": "python",
   "nbconvert_exporter": "python",
   "pygments_lexer": "ipython3",
   "version": "3.6.7"
  }
 },
 "nbformat": 4,
 "nbformat_minor": 2
}
