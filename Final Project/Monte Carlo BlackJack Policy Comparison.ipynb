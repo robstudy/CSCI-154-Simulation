{
 "cells": [
  {
   "cell_type": "code",
   "execution_count": 1,
   "metadata": {},
   "outputs": [],
   "source": [
    "#Import main\n",
    "from main import *"
   ]
  },
  {
   "cell_type": "code",
   "execution_count": 2,
   "metadata": {},
   "outputs": [],
   "source": [
    "import seaborn as sns\n",
    "import matplotlib.pyplot as plt\n",
    "from scipy.stats import norm\n",
    "import numpy as np\n",
    "import pandas as pd"
   ]
  },
  {
   "cell_type": "code",
   "execution_count": 6,
   "metadata": {},
   "outputs": [],
   "source": [
    "p1 = get_stats(policy_1, 1000000)\n",
    "p2 = get_stats(policy_2, 1000000)\n",
    "p3 = get_stats(policy_3, 1000000)\n",
    "p4 = get_stats(policy_4, 1000000)\n",
    "p5 = get_stats(policy_5, 1000000)\n",
    "p6 = get_stats(policy_6, 1000000)"
   ]
  },
  {
   "cell_type": "code",
   "execution_count": 8,
   "metadata": {},
   "outputs": [],
   "source": [
    "p1_wins = p1['P_Wins']/p1['num_of_tests']*100\n",
    "p2_wins = p2['P_Wins']/p2['num_of_tests']*100\n",
    "p3_wins = p3['P_Wins']/p3['num_of_tests']*100\n",
    "p4_wins = p4['P_Wins']/p4['num_of_tests']*100\n",
    "p5_wins = p5['P_Wins']/p5['num_of_tests']*100\n",
    "p6_wins = p6['P_Wins']/p6['num_of_tests']*100\n",
    "all_wins = [p1_wins, p2_wins, p3_wins, p4_wins, p5_wins, p6_wins]"
   ]
  },
  {
   "cell_type": "code",
   "execution_count": 9,
   "metadata": {},
   "outputs": [
    {
     "data": {
      "text/plain": [
       "<matplotlib.axes._subplots.AxesSubplot at 0x7fc7243d6940>"
      ]
     },
     "execution_count": 9,
     "metadata": {},
     "output_type": "execute_result"
    },
    {
     "data": {
      "image/png": "[encoded data removed]",
      "text/plain": [
       "<Figure size 432x288 with 1 Axes>"
      ]
     },
     "metadata": {
      "needs_background": "light"
     },
     "output_type": "display_data"
    }
   ],
   "source": [
    "sns.distplot(all_wins)"
   ]
  },
  {
   "cell_type": "code",
   "execution_count": 3,
   "metadata": {},
   "outputs": [],
   "source": [
    "#Display stats for different policies\n",
    "def stats_data(policy_stats):\n",
    "    stats_p1 = [0,0,0,0,0]\n",
    "    for i in policy_stats:\n",
    "        if i == -2:\n",
    "            stats_p1[0] += 1\n",
    "        elif i == -1:\n",
    "            stats_p1[1] += 1\n",
    "        elif i == 0:\n",
    "            stats_p1[2] += 1\n",
    "        elif i == 1:\n",
    "            stats_p1[3] += 1\n",
    "        elif i == 2:\n",
    "            stats_p1[4] += 1\n",
    "    stats_percent = []\n",
    "    stats_percent.append(stats_p1[0] / len(policy_stats) * 100)\n",
    "    stats_percent.append(stats_p1[1] / len(policy_stats) * 100)\n",
    "    stats_percent.append(stats_p1[2] / len(policy_stats) * 100)\n",
    "    stats_percent.append(stats_p1[3] / len(policy_stats) * 100)\n",
    "    stats_percent.append(stats_p1[4] / len(policy_stats) * 100)\n",
    "    print('player busts: ',stats_percent[0], '%')\n",
    "    print('player loses: ', stats_percent[1] , '%')\n",
    "    print('draw: ', stats_percent[2] , '%')\n",
    "    print('player wins: ', stats_percent[3] , '%')\n",
    "    print('dealer busts: ', stats_percent[4] , '%')\n",
    "    return stats_percent"
   ]
  },
  {
   "cell_type": "code",
   "execution_count": 10,
   "metadata": {},
   "outputs": [],
   "source": [
    "#Policy 1\n",
    "p1 = get_stats_mod(policy_1, 1000000)"
   ]
  },
  {
   "cell_type": "code",
   "execution_count": 12,
   "metadata": {},
   "outputs": [
    {
     "name": "stdout",
     "output_type": "stream",
     "text": [
      "policy 1 stats: \n",
      "player busts:  20.1209 %\n",
      "player loses:  20.5747 %\n",
      "draw:  18.5136 %\n",
      "player wins:  23.985699999999998 %\n",
      "dealer busts:  16.8051 %\n"
     ]
    }
   ],
   "source": [
    "print('policy 1 stats: ')\n",
    "p1_array = stats_data(p1)"
   ]
  },
  {
   "cell_type": "code",
   "execution_count": 13,
   "metadata": {},
   "outputs": [
    {
     "data": {
      "image/png": "[encoded data removed]",
      "text/plain": [
       "<Figure size 432x288 with 1 Axes>"
      ]
     },
     "metadata": {
      "needs_background": "light"
     },
     "output_type": "display_data"
    }
   ],
   "source": [
    "objects = ('Player Bust', 'Dealer Wins', 'Draw', 'Player Wins', 'Dealer Busts')\n",
    "y_pos = np.arange(len(objects))\n",
    "performance = p1_array\n",
    " \n",
    "plt.bar(y_pos, performance, align='center', alpha=0.5)\n",
    "plt.xticks(y_pos, objects)\n",
    "plt.ylabel('Percent')\n",
    "plt.title('Policy 1 Outcomes')\n",
    " \n",
    "plt.show()"
   ]
  },
  {
   "cell_type": "code",
   "execution_count": 14,
   "metadata": {},
   "outputs": [],
   "source": [
    "#Policy 2 Stats\n",
    "p2 = get_stats_mod(policy_1, 1000000)"
   ]
  },
  {
   "cell_type": "code",
   "execution_count": 15,
   "metadata": {},
   "outputs": [
    {
     "name": "stdout",
     "output_type": "stream",
     "text": [
      "policy 2 stats: \n",
      "player busts:  20.2232 %\n",
      "player loses:  20.5396 %\n",
      "draw:  18.475 %\n",
      "player wins:  23.9013 %\n",
      "dealer busts:  16.8609 %\n"
     ]
    }
   ],
   "source": [
    "print('policy 2 stats: ')\n",
    "p2_array = stats_data(p2)"
   ]
  },
  {
   "cell_type": "code",
   "execution_count": 16,
   "metadata": {},
   "outputs": [
    {
     "data": {
      "image/png": "[encoded data removed]",
      "text/plain": [
       "<Figure size 432x288 with 1 Axes>"
      ]
     },
     "metadata": {
      "needs_background": "light"
     },
     "output_type": "display_data"
    }
   ],
   "source": [
    "objects = ('Player Bust', 'Dealer Wins', 'Draw', 'Player Wins', 'Dealer Busts')\n",
    "y_pos = np.arange(len(objects))\n",
    "performance = p2_array\n",
    " \n",
    "plt.bar(y_pos, performance, align='center', alpha=0.5, color=\"darkblue\")\n",
    "plt.xticks(y_pos, objects)\n",
    "plt.ylabel('Percent')\n",
    "plt.title('Policy 2 Outcomes')\n",
    " \n",
    "plt.show()"
   ]
  },
  {
   "cell_type": "code",
   "execution_count": 17,
   "metadata": {},
   "outputs": [],
   "source": [
    "#Policy 3 Stats\n",
    "p3 = get_stats_mod(policy_3, 1000000)"
   ]
  },
  {
   "cell_type": "code",
   "execution_count": 18,
   "metadata": {},
   "outputs": [
    {
     "name": "stdout",
     "output_type": "stream",
     "text": [
      "policy 3 stats: \n",
      "player busts:  20.758 %\n",
      "player loses:  20.118 %\n",
      "draw:  18.4618 %\n",
      "player wins:  24.107300000000002 %\n",
      "dealer busts:  16.5549 %\n"
     ]
    }
   ],
   "source": [
    "print('policy 3 stats: ')\n",
    "p3_array = stats_data(p3)"
   ]
  },
  {
   "cell_type": "code",
   "execution_count": 19,
   "metadata": {},
   "outputs": [
    {
     "data": {
      "image/png": "[encoded data removed]",
      "text/plain": [
       "<Figure size 432x288 with 1 Axes>"
      ]
     },
     "metadata": {
      "needs_background": "light"
     },
     "output_type": "display_data"
    }
   ],
   "source": [
    "objects = ('Player Bust', 'Dealer Wins', 'Draw', 'Player Wins', 'Dealer Busts')\n",
    "y_pos = np.arange(len(objects))\n",
    "performance = p3_array\n",
    " \n",
    "plt.bar(y_pos, performance, align='center', alpha=0.5, color=\"purple\")\n",
    "plt.xticks(y_pos, objects)\n",
    "plt.ylabel('Percent')\n",
    "plt.title('Policy 3 Outcomes')\n",
    " \n",
    "plt.show()"
   ]
  },
  {
   "cell_type": "code",
   "execution_count": 20,
   "metadata": {},
   "outputs": [],
   "source": [
    "#Policy 4 Stats\n",
    "p4 = get_stats_mod(policy_4, 1000000)"
   ]
  },
  {
   "cell_type": "code",
   "execution_count": 21,
   "metadata": {},
   "outputs": [
    {
     "name": "stdout",
     "output_type": "stream",
     "text": [
      "policy 4 stats: \n",
      "player busts:  0.0 %\n",
      "player loses:  56.73629999999999 %\n",
      "draw:  5.2149 %\n",
      "player wins:  11.2704 %\n",
      "dealer busts:  26.7784 %\n"
     ]
    }
   ],
   "source": [
    "print('policy 4 stats: ')\n",
    "p4_array = stats_data(p4)"
   ]
  },
  {
   "cell_type": "code",
   "execution_count": 22,
   "metadata": {},
   "outputs": [
    {
     "data": {
      "image/png": "[encoded data removed]",
      "text/plain": [
       "<Figure size 432x288 with 1 Axes>"
      ]
     },
     "metadata": {
      "needs_background": "light"
     },
     "output_type": "display_data"
    }
   ],
   "source": [
    "objects = ('Player Bust', 'Dealer Wins', 'Draw', 'Player Wins', 'Dealer Busts')\n",
    "y_pos = np.arange(len(objects))\n",
    "performance = p4_array\n",
    " \n",
    "plt.bar(y_pos, performance, align='center', alpha=0.5, color='pink')\n",
    "plt.xticks(y_pos, objects)\n",
    "plt.ylabel('Percent')\n",
    "plt.title('Policy 4 Outcomes')\n",
    " \n",
    "plt.show()"
   ]
  },
  {
   "cell_type": "code",
   "execution_count": 23,
   "metadata": {},
   "outputs": [],
   "source": [
    "#Policy 5 Stats\n",
    "p5 = get_stats_mod(policy_5, 1000000)"
   ]
  },
  {
   "cell_type": "code",
   "execution_count": 24,
   "metadata": {},
   "outputs": [
    {
     "name": "stdout",
     "output_type": "stream",
     "text": [
      "policy 5 stats: \n",
      "player busts:  12.771199999999999 %\n",
      "player loses:  33.0868 %\n",
      "draw:  12.0838 %\n",
      "player wins:  19.9876 %\n",
      "dealer busts:  22.070600000000002 %\n"
     ]
    }
   ],
   "source": [
    "print('policy 5 stats: ')\n",
    "p5_array = stats_data(p5)"
   ]
  },
  {
   "cell_type": "code",
   "execution_count": 25,
   "metadata": {},
   "outputs": [
    {
     "data": {
      "image/png": "[encoded data removed]",
      "text/plain": [
       "<Figure size 432x288 with 1 Axes>"
      ]
     },
     "metadata": {
      "needs_background": "light"
     },
     "output_type": "display_data"
    }
   ],
   "source": [
    "objects = ('Player Bust', 'Dealer Wins', 'Draw', 'Player Wins', 'Dealer Busts')\n",
    "y_pos = np.arange(len(objects))\n",
    "performance = p5_array\n",
    " \n",
    "plt.bar(y_pos, performance, align='center', alpha=0.5, color='y')\n",
    "plt.xticks(y_pos, objects)\n",
    "plt.ylabel('Percent')\n",
    "plt.title('Policy 5 Outcomes')\n",
    " \n",
    "plt.show()"
   ]
  },
  {
   "cell_type": "code",
   "execution_count": 26,
   "metadata": {},
   "outputs": [],
   "source": [
    "#Policy 6 Stats\n",
    "p6 = get_stats_mod(policy_6, 1000000)"
   ]
  },
  {
   "cell_type": "code",
   "execution_count": 27,
   "metadata": {
    "scrolled": true
   },
   "outputs": [
    {
     "name": "stdout",
     "output_type": "stream",
     "text": [
      "policy 6 stats: \n",
      "player busts:  12.3839 %\n",
      "player loses:  33.2064 %\n",
      "draw:  12.0512 %\n",
      "player wins:  20.0601 %\n",
      "dealer busts:  22.298399999999997 %\n"
     ]
    }
   ],
   "source": [
    "print('policy 6 stats: ')\n",
    "p6_array = stats_data(p6)"
   ]
  },
  {
   "cell_type": "code",
   "execution_count": 28,
   "metadata": {},
   "outputs": [
    {
     "data": {
      "image/png": "[encoded data removed]",
      "text/plain": [
       "<Figure size 432x288 with 1 Axes>"
      ]
     },
     "metadata": {
      "needs_background": "light"
     },
     "output_type": "display_data"
    }
   ],
   "source": [
    "objects = ('Player Bust', 'Dealer Wins', 'Draw', 'Player Wins', 'Dealer Busts')\n",
    "y_pos = np.arange(len(objects))\n",
    "performance = p6_array\n",
    " \n",
    "plt.bar(y_pos, performance, align='center', alpha=0.5, color='g')\n",
    "plt.xticks(y_pos, objects)\n",
    "plt.ylabel('Percent')\n",
    "plt.title('Policy 6 Outcomes')\n",
    " \n",
    "plt.show()"
   ]
  },
  {
   "cell_type": "code",
   "execution_count": 4,
   "metadata": {},
   "outputs": [],
   "source": [
    "#Policy 7 Stats .25 %\n",
    "p7_25 = get_stats_mod(policy_7_25, 1000000)"
   ]
  },
  {
   "cell_type": "code",
   "execution_count": 5,
   "metadata": {
    "scrolled": true
   },
   "outputs": [
    {
     "name": "stdout",
     "output_type": "stream",
     "text": [
      "policy 7 stats: \n",
      "player busts:  27.0586 %\n",
      "player loses:  13.2969 %\n",
      "draw:  19.7742 %\n",
      "player wins:  26.0387 %\n",
      "dealer busts:  13.8316 %\n"
     ]
    }
   ],
   "source": [
    "print('policy 7 stats: ')\n",
    "p7_array = stats_data(p7_25)"
   ]
  },
  {
   "cell_type": "code",
   "execution_count": 6,
   "metadata": {},
   "outputs": [
    {
     "data": {
      "image/png": "[encoded data removed]",
      "text/plain": [
       "<Figure size 432x288 with 1 Axes>"
      ]
     },
     "metadata": {
      "needs_background": "light"
     },
     "output_type": "display_data"
    }
   ],
   "source": [
    "objects = ('Player Bust', 'Dealer Wins', 'Draw', 'Player Wins', 'Dealer Busts')\n",
    "y_pos = np.arange(len(objects))\n",
    "performance = p7_array\n",
    " \n",
    "plt.bar(y_pos, performance, align='center', alpha=0.5, color='r')\n",
    "plt.xticks(y_pos, objects)\n",
    "plt.ylabel('Percent')\n",
    "plt.title('Policy 7 (finite) 25% Outcomes')\n",
    " \n",
    "plt.show()"
   ]
  },
  {
   "cell_type": "code",
   "execution_count": 4,
   "metadata": {},
   "outputs": [],
   "source": [
    "#Policy 7 Stats .25 %\n",
    "p7_25 = get_stats_mod(policy_7_25, 1000000)"
   ]
  },
  {
   "cell_type": "code",
   "execution_count": 5,
   "metadata": {
    "scrolled": true
   },
   "outputs": [
    {
     "name": "stdout",
     "output_type": "stream",
     "text": [
      "policy 7 stats: \n",
      "player busts:  27.0586 %\n",
      "player loses:  13.2969 %\n",
      "draw:  19.7742 %\n",
      "player wins:  26.0387 %\n",
      "dealer busts:  13.8316 %\n"
     ]
    }
   ],
   "source": [
    "print('policy 7 stats: ')\n",
    "p7_array = stats_data(p7_25)"
   ]
  },
  {
   "cell_type": "code",
   "execution_count": 6,
   "metadata": {},
   "outputs": [
    {
     "data": {
      "image/png": "[encoded data removed]",
      "text/plain": [
       "<Figure size 432x288 with 1 Axes>"
      ]
     },
     "metadata": {
      "needs_background": "light"
     },
     "output_type": "display_data"
    }
   ],
   "source": [
    "objects = ('Player Bust', 'Dealer Wins', 'Draw', 'Player Wins', 'Dealer Busts')\n",
    "y_pos = np.arange(len(objects))\n",
    "performance = p7_array\n",
    " \n",
    "plt.bar(y_pos, performance, align='center', alpha=0.5, color='r')\n",
    "plt.xticks(y_pos, objects)\n",
    "plt.ylabel('Percent')\n",
    "plt.title('Policy 7 (finite) 25% Outcomes')\n",
    " \n",
    "plt.show()"
   ]
  },
  {
   "cell_type": "code",
   "execution_count": 55,
   "metadata": {},
   "outputs": [],
   "source": [
    "finite = False"
   ]
  },
  {
   "cell_type": "code",
   "execution_count": 56,
   "metadata": {},
   "outputs": [
    {
     "data": {
      "text/plain": [
       "False"
      ]
     },
     "execution_count": 56,
     "metadata": {},
     "output_type": "execute_result"
    }
   ],
   "source": [
    "finite"
   ]
  },
  {
   "cell_type": "code",
   "execution_count": null,
   "metadata": {},
   "outputs": [],
   "source": []
  },
  {
   "cell_type": "code",
   "execution_count": 61,
   "metadata": {},
   "outputs": [],
   "source": [
    "p1_infinite = get_stats_mod(policy_1, 1000000)"
   ]
  },
  {
   "cell_type": "code",
   "execution_count": 62,
   "metadata": {},
   "outputs": [
    {
     "name": "stdout",
     "output_type": "stream",
     "text": [
      "policy 2 stats: \n",
      "player busts:  20.1928 %\n",
      "player loses:  20.592399999999998 %\n",
      "draw:  18.4729 %\n",
      "player wins:  23.8451 %\n",
      "dealer busts:  16.8968 %\n"
     ]
    }
   ],
   "source": [
    "print('policy 2 stats: ')\n",
    "p1_array_inf = stats_data(p1_infinite)"
   ]
  },
  {
   "cell_type": "code",
   "execution_count": 64,
   "metadata": {},
   "outputs": [
    {
     "data": {
      "image/png": "[encoded data removed]",
      "text/plain": [
       "<Figure size 432x288 with 1 Axes>"
      ]
     },
     "metadata": {
      "needs_background": "light"
     },
     "output_type": "display_data"
    }
   ],
   "source": [
    "objects = ('Player Bust', 'Dealer Wins', 'Draw', 'Player Wins', 'Dealer Busts')\n",
    "y_pos = np.arange(len(objects))\n",
    "performance = p1_array_inf\n",
    " \n",
    "plt.bar(y_pos, performance, align='center', alpha=0.5)\n",
    "plt.xticks(y_pos, objects)\n",
    "plt.ylabel('Percent')\n",
    "plt.title('Policy 1 (infinite) Outcomes')\n",
    " \n",
    "plt.show()"
   ]
  },
  {
   "cell_type": "code",
   "execution_count": null,
   "metadata": {},
   "outputs": [],
   "source": []
  },
  {
   "cell_type": "code",
   "execution_count": 65,
   "metadata": {},
   "outputs": [],
   "source": [
    "p2_inf = get_stats_mod(policy_2, 1000000)"
   ]
  },
  {
   "cell_type": "code",
   "execution_count": 66,
   "metadata": {},
   "outputs": [
    {
     "name": "stdout",
     "output_type": "stream",
     "text": [
      "policy 2 stats: \n",
      "player busts:  21.512999999999998 %\n",
      "player loses:  19.6366 %\n",
      "draw:  18.6732 %\n",
      "player wins:  24.0672 %\n",
      "dealer busts:  16.11 %\n"
     ]
    }
   ],
   "source": [
    "print('policy 2 stats: ')\n",
    "p2_array_inf = stats_data(p2_inf)"
   ]
  },
  {
   "cell_type": "code",
   "execution_count": 68,
   "metadata": {},
   "outputs": [
    {
     "data": {
      "image/png": "[encoded data removed]",
      "text/plain": [
       "<Figure size 432x288 with 1 Axes>"
      ]
     },
     "metadata": {
      "needs_background": "light"
     },
     "output_type": "display_data"
    }
   ],
   "source": [
    "objects = ('Player Bust', 'Dealer Wins', 'Draw', 'Player Wins', 'Dealer Busts')\n",
    "y_pos = np.arange(len(objects))\n",
    "performance = p2_array_inf\n",
    " \n",
    "plt.bar(y_pos, performance, align='center', alpha=0.5, color=\"darkblue\")\n",
    "plt.xticks(y_pos, objects)\n",
    "plt.ylabel('Percent')\n",
    "plt.title('Policy 2 (infinite) Outcomes')\n",
    " \n",
    "plt.show()"
   ]
  },
  {
   "cell_type": "code",
   "execution_count": null,
   "metadata": {},
   "outputs": [],
   "source": []
  },
  {
   "cell_type": "code",
   "execution_count": 69,
   "metadata": {},
   "outputs": [],
   "source": [
    "p3_inf = get_stats_mod(policy_3, 1000000)"
   ]
  },
  {
   "cell_type": "code",
   "execution_count": 70,
   "metadata": {},
   "outputs": [
    {
     "name": "stdout",
     "output_type": "stream",
     "text": [
      "policy 3 stats: \n",
      "player busts:  20.756800000000002 %\n",
      "player loses:  20.102999999999998 %\n",
      "draw:  18.448999999999998 %\n",
      "player wins:  24.1226 %\n",
      "dealer busts:  16.5686 %\n"
     ]
    }
   ],
   "source": [
    "print('policy 3 stats: ')\n",
    "p3_array_inf = stats_data(p3_inf)"
   ]
  },
  {
   "cell_type": "code",
   "execution_count": 71,
   "metadata": {},
   "outputs": [
    {
     "data": {
      "image/png": "[encoded data removed]",
      "text/plain": [
       "<Figure size 432x288 with 1 Axes>"
      ]
     },
     "metadata": {
      "needs_background": "light"
     },
     "output_type": "display_data"
    }
   ],
   "source": [
    "objects = ('Player Bust', 'Dealer Wins', 'Draw', 'Player Wins', 'Dealer Busts')\n",
    "y_pos = np.arange(len(objects))\n",
    "performance = p3_array_inf\n",
    " \n",
    "plt.bar(y_pos, performance, align='center', alpha=0.5, color=\"purple\")\n",
    "plt.xticks(y_pos, objects)\n",
    "plt.ylabel('Percent')\n",
    "plt.title('Policy 3 (infinite) Outcomes')\n",
    " \n",
    "plt.show()"
   ]
  },
  {
   "cell_type": "code",
   "execution_count": 72,
   "metadata": {},
   "outputs": [],
   "source": [
    "p4_inf = get_stats_mod(policy_4, 1000000)"
   ]
  },
  {
   "cell_type": "code",
   "execution_count": 73,
   "metadata": {},
   "outputs": [
    {
     "name": "stdout",
     "output_type": "stream",
     "text": [
      "policy 4 stats: \n",
      "player busts:  0.0 %\n",
      "player loses:  56.688 %\n",
      "draw:  5.1977 %\n",
      "player wins:  11.2265 %\n",
      "dealer busts:  26.887800000000002 %\n"
     ]
    }
   ],
   "source": [
    "print('policy 4 stats: ')\n",
    "p4_array_inf = stats_data(p4_inf)"
   ]
  },
  {
   "cell_type": "code",
   "execution_count": 86,
   "metadata": {},
   "outputs": [
    {
     "data": {
      "image/png": "[encoded data removed]",
      "text/plain": [
       "<Figure size 432x288 with 1 Axes>"
      ]
     },
     "metadata": {
      "needs_background": "light"
     },
     "output_type": "display_data"
    }
   ],
   "source": [
    "objects = ('Player Bust', 'Dealer Wins', 'Draw', 'Player Wins', 'Dealer Busts')\n",
    "y_pos = np.arange(len(objects))\n",
    "performance = p4_array_inf\n",
    " \n",
    "plt.bar(y_pos, performance, align='center', alpha=0.5, color='pink')\n",
    "plt.xticks(y_pos, objects)\n",
    "plt.ylabel('Percent')\n",
    "plt.title('Policy 4 (infinite) Outcomes')\n",
    " \n",
    "plt.show()"
   ]
  },
  {
   "cell_type": "code",
   "execution_count": 76,
   "metadata": {},
   "outputs": [],
   "source": [
    "p5_inf = get_stats_mod(policy_5, 1000000)"
   ]
  },
  {
   "cell_type": "code",
   "execution_count": 77,
   "metadata": {},
   "outputs": [
    {
     "name": "stdout",
     "output_type": "stream",
     "text": [
      "policy 5 stats: \n",
      "player busts:  12.8265 %\n",
      "player loses:  33.1419 %\n",
      "draw:  12.0852 %\n",
      "player wins:  19.9699 %\n",
      "dealer busts:  21.976499999999998 %\n"
     ]
    }
   ],
   "source": [
    "print('policy 5 stats: ')\n",
    "p5_array_inf = stats_data(p5_inf)"
   ]
  },
  {
   "cell_type": "code",
   "execution_count": 79,
   "metadata": {},
   "outputs": [
    {
     "data": {
      "image/png": "[encoded data removed]",
      "text/plain": [
       "<Figure size 432x288 with 1 Axes>"
      ]
     },
     "metadata": {
      "needs_background": "light"
     },
     "output_type": "display_data"
    }
   ],
   "source": [
    "objects = ('Player Bust', 'Dealer Wins', 'Draw', 'Player Wins', 'Dealer Busts')\n",
    "y_pos = np.arange(len(objects))\n",
    "performance = p5_array_inf\n",
    " \n",
    "plt.bar(y_pos, performance, align='center', alpha=0.5, color='y')\n",
    "plt.xticks(y_pos, objects)\n",
    "plt.ylabel('Percent')\n",
    "plt.title('Policy 5 (infinite) Outcomes')\n",
    " \n",
    "plt.show()"
   ]
  },
  {
   "cell_type": "code",
   "execution_count": 80,
   "metadata": {},
   "outputs": [],
   "source": [
    "p6_inf = get_stats_mod(policy_6, 1000000)"
   ]
  },
  {
   "cell_type": "code",
   "execution_count": 81,
   "metadata": {
    "scrolled": true
   },
   "outputs": [
    {
     "name": "stdout",
     "output_type": "stream",
     "text": [
      "policy 6 stats: \n",
      "player busts:  12.378 %\n",
      "player loses:  33.142700000000005 %\n",
      "draw:  12.1643 %\n",
      "player wins:  19.992099999999997 %\n",
      "dealer busts:  22.3229 %\n"
     ]
    }
   ],
   "source": [
    "print('policy 6 stats: ')\n",
    "p6_array_inf = stats_data(p6_inf)"
   ]
  },
  {
   "cell_type": "code",
   "execution_count": 87,
   "metadata": {},
   "outputs": [
    {
     "data": {
      "image/png": "[encoded data removed]",
      "text/plain": [
       "<Figure size 432x288 with 1 Axes>"
      ]
     },
     "metadata": {
      "needs_background": "light"
     },
     "output_type": "display_data"
    }
   ],
   "source": [
    "objects = ('Player Bust', 'Dealer Wins', 'Draw', 'Player Wins', 'Dealer Busts')\n",
    "y_pos = np.arange(len(objects))\n",
    "performance = p6_array_inf\n",
    " \n",
    "plt.bar(y_pos, performance, align='center', alpha=0.5, color='g')\n",
    "plt.xticks(y_pos, objects)\n",
    "plt.ylabel('Percent')\n",
    "plt.title('Policy 6 (infinite) Outcomes')\n",
    " \n",
    "plt.show()"
   ]
  },
  {
   "cell_type": "code",
   "execution_count": 83,
   "metadata": {},
   "outputs": [],
   "source": [
    "p7_inf = get_stats_mod(policy_7, 1000000)"
   ]
  },
  {
   "cell_type": "code",
   "execution_count": 84,
   "metadata": {
    "scrolled": true
   },
   "outputs": [
    {
     "name": "stdout",
     "output_type": "stream",
     "text": [
      "policy 7 stats: \n",
      "player busts:  12.052999999999999 %\n",
      "player loses:  33.5174 %\n",
      "draw:  12.1504 %\n",
      "player wins:  19.7932 %\n",
      "dealer busts:  22.486 %\n"
     ]
    }
   ],
   "source": [
    "print('policy 7 stats: ')\n",
    "p7_array_inf = stats_data(p7_inf)"
   ]
  },
  {
   "cell_type": "code",
   "execution_count": 88,
   "metadata": {},
   "outputs": [
    {
     "data": {
      "image/png": "[encoded data removed]",
      "text/plain": [
       "<Figure size 432x288 with 1 Axes>"
      ]
     },
     "metadata": {
      "needs_background": "light"
     },
     "output_type": "display_data"
    }
   ],
   "source": [
    "objects = ('Player Bust', 'Dealer Wins', 'Draw', 'Player Wins', 'Dealer Busts')\n",
    "y_pos = np.arange(len(objects))\n",
    "performance = p7_array_inf\n",
    " \n",
    "plt.bar(y_pos, performance, align='center', alpha=0.5, color='r')\n",
    "plt.xticks(y_pos, objects)\n",
    "plt.ylabel('Percent')\n",
    "plt.title('Policy 7 (infinite) Outcomes')\n",
    " \n",
    "plt.show()"
   ]
  },
  {
   "cell_type": "code",
   "execution_count": 4,
   "metadata": {},
   "outputs": [],
   "source": [
    "p7 = get_stats_mod(policy_7, 1000000)"
   ]
  },
  {
   "cell_type": "code",
   "execution_count": 5,
   "metadata": {},
   "outputs": [
    {
     "name": "stdout",
     "output_type": "stream",
     "text": [
      "policy 7 stats: \n",
      "player busts:  27.0914 %\n",
      "player loses:  13.2116 %\n",
      "draw:  19.7607 %\n",
      "player wins:  26.0324 %\n",
      "dealer busts:  13.9039 %\n"
     ]
    }
   ],
   "source": [
    "print('policy 7 stats: ')\n",
    "p7_array = stats_data(p7)"
   ]
  },
  {
   "cell_type": "code",
   "execution_count": 6,
   "metadata": {},
   "outputs": [
    {
     "data": {
      "image/png": "[encoded data removed]",
      "text/plain": [
       "<Figure size 432x288 with 1 Axes>"
      ]
     },
     "metadata": {
      "needs_background": "light"
     },
     "output_type": "display_data"
    }
   ],
   "source": [
    "objects = ('Player Bust', 'Dealer Wins', 'Draw', 'Player Wins', 'Dealer Busts')\n",
    "y_pos = np.arange(len(objects))\n",
    "performance = p7_array\n",
    " \n",
    "plt.bar(y_pos, performance, align='center', alpha=0.5, color='red')\n",
    "plt.xticks(y_pos, objects)\n",
    "plt.ylabel('Percent')\n",
    "plt.title('Policy 7 (infinite) 25% Outcomes')\n",
    " \n",
    "plt.show()"
   ]
  },
  {
   "cell_type": "code",
   "execution_count": 31,
   "metadata": {},
   "outputs": [],
   "source": [
    "def get_trends(policy_stats):\n",
    "    wins_vs_losses = 0\n",
    "    stats_p1 = []\n",
    "    for i in policy_stats:\n",
    "        if i == -2:\n",
    "            wins_vs_losses -= 1\n",
    "            stats_p1.append(wins_vs_losses)\n",
    "        elif i == -1:\n",
    "            wins_vs_losses -= 1\n",
    "            stats_p1.append(wins_vs_losses)\n",
    "        elif i == 0:\n",
    "            stats_p1.append(wins_vs_losses)\n",
    "        elif i == 1:\n",
    "            wins_vs_losses += 1\n",
    "            stats_p1.append(wins_vs_losses)\n",
    "        elif i == 2:\n",
    "            wins_vs_losses += 1\n",
    "            stats_p1.append(wins_vs_losses)\n",
    "    return stats_p1"
   ]
  },
  {
   "cell_type": "code",
   "execution_count": 26,
   "metadata": {},
   "outputs": [
    {
     "ename": "ValueError",
     "evalue": "Could not interpret input 'time'",
     "output_type": "error",
     "traceback": [
      "\u001b[0;31m---------------------------------------------------------------------------\u001b[0m",
      "\u001b[0;31mValueError\u001b[0m                                Traceback (most recent call last)",
      "\u001b[0;32m<ipython-input-26-0385ef8547c8>\u001b[0m in \u001b[0;36m<module>\u001b[0;34m\u001b[0m\n\u001b[1;32m      2\u001b[0m             \u001b[0mhue\u001b[0m\u001b[0;34m=\u001b[0m\u001b[0;34m\"choice\"\u001b[0m\u001b[0;34m,\u001b[0m \u001b[0msize\u001b[0m\u001b[0;34m=\u001b[0m\u001b[0;34m\"coherence\"\u001b[0m\u001b[0;34m,\u001b[0m \u001b[0mstyle\u001b[0m\u001b[0;34m=\u001b[0m\u001b[0;34m\"choice\"\u001b[0m\u001b[0;34m,\u001b[0m\u001b[0;34m\u001b[0m\u001b[0;34m\u001b[0m\u001b[0m\n\u001b[1;32m      3\u001b[0m             \u001b[0mfacet_kws\u001b[0m\u001b[0;34m=\u001b[0m\u001b[0mdict\u001b[0m\u001b[0;34m(\u001b[0m\u001b[0msharex\u001b[0m\u001b[0;34m=\u001b[0m\u001b[0;32mFalse\u001b[0m\u001b[0;34m)\u001b[0m\u001b[0;34m,\u001b[0m\u001b[0;34m\u001b[0m\u001b[0;34m\u001b[0m\u001b[0m\n\u001b[0;32m----> 4\u001b[0;31m             kind=\"line\", legend=\"full\", data=df);\n\u001b[0m",
      "\u001b[0;32m~/.local/lib/python3.6/site-packages/seaborn/relational.py\u001b[0m in \u001b[0;36mrelplot\u001b[0;34m(x, y, hue, size, style, data, row, col, col_wrap, row_order, col_order, palette, hue_order, hue_norm, sizes, size_order, size_norm, markers, dashes, style_order, legend, kind, height, aspect, facet_kws, **kwargs)\u001b[0m\n\u001b[1;32m   1574\u001b[0m         \u001b[0msizes\u001b[0m\u001b[0;34m=\u001b[0m\u001b[0msizes\u001b[0m\u001b[0;34m,\u001b[0m \u001b[0msize_order\u001b[0m\u001b[0;34m=\u001b[0m\u001b[0msize_order\u001b[0m\u001b[0;34m,\u001b[0m \u001b[0msize_norm\u001b[0m\u001b[0;34m=\u001b[0m\u001b[0msize_norm\u001b[0m\u001b[0;34m,\u001b[0m\u001b[0;34m\u001b[0m\u001b[0;34m\u001b[0m\u001b[0m\n\u001b[1;32m   1575\u001b[0m         \u001b[0mmarkers\u001b[0m\u001b[0;34m=\u001b[0m\u001b[0mmarkers\u001b[0m\u001b[0;34m,\u001b[0m \u001b[0mdashes\u001b[0m\u001b[0;34m=\u001b[0m\u001b[0mdashes\u001b[0m\u001b[0;34m,\u001b[0m \u001b[0mstyle_order\u001b[0m\u001b[0;34m=\u001b[0m\u001b[0mstyle_order\u001b[0m\u001b[0;34m,\u001b[0m\u001b[0;34m\u001b[0m\u001b[0;34m\u001b[0m\u001b[0m\n\u001b[0;32m-> 1576\u001b[0;31m         \u001b[0mlegend\u001b[0m\u001b[0;34m=\u001b[0m\u001b[0mlegend\u001b[0m\u001b[0;34m,\u001b[0m\u001b[0;34m\u001b[0m\u001b[0;34m\u001b[0m\u001b[0m\n\u001b[0m\u001b[1;32m   1577\u001b[0m     )\n\u001b[1;32m   1578\u001b[0m \u001b[0;34m\u001b[0m\u001b[0m\n",
      "\u001b[0;32m~/.local/lib/python3.6/site-packages/seaborn/relational.py\u001b[0m in \u001b[0;36m__init__\u001b[0;34m(self, x, y, hue, size, style, data, palette, hue_order, hue_norm, sizes, size_order, size_norm, dashes, markers, style_order, units, estimator, ci, n_boot, sort, err_style, err_kws, legend)\u001b[0m\n\u001b[1;32m    661\u001b[0m \u001b[0;34m\u001b[0m\u001b[0m\n\u001b[1;32m    662\u001b[0m         plot_data = self.establish_variables(\n\u001b[0;32m--> 663\u001b[0;31m             \u001b[0mx\u001b[0m\u001b[0;34m,\u001b[0m \u001b[0my\u001b[0m\u001b[0;34m,\u001b[0m \u001b[0mhue\u001b[0m\u001b[0;34m,\u001b[0m \u001b[0msize\u001b[0m\u001b[0;34m,\u001b[0m \u001b[0mstyle\u001b[0m\u001b[0;34m,\u001b[0m \u001b[0munits\u001b[0m\u001b[0;34m,\u001b[0m \u001b[0mdata\u001b[0m\u001b[0;34m\u001b[0m\u001b[0;34m\u001b[0m\u001b[0m\n\u001b[0m\u001b[1;32m    664\u001b[0m         )\n\u001b[1;32m    665\u001b[0m \u001b[0;34m\u001b[0m\u001b[0m\n",
      "\u001b[0;32m~/.local/lib/python3.6/site-packages/seaborn/relational.py\u001b[0m in \u001b[0;36mestablish_variables\u001b[0;34m(self, x, y, hue, size, style, units, data)\u001b[0m\n\u001b[1;32m    140\u001b[0m                 \u001b[0;32mif\u001b[0m \u001b[0misinstance\u001b[0m\u001b[0;34m(\u001b[0m\u001b[0mvar\u001b[0m\u001b[0;34m,\u001b[0m \u001b[0mstring_types\u001b[0m\u001b[0;34m)\u001b[0m\u001b[0;34m:\u001b[0m\u001b[0;34m\u001b[0m\u001b[0;34m\u001b[0m\u001b[0m\n\u001b[1;32m    141\u001b[0m                     \u001b[0merr\u001b[0m \u001b[0;34m=\u001b[0m \u001b[0;34m\"Could not interpret input '{}'\"\u001b[0m\u001b[0;34m.\u001b[0m\u001b[0mformat\u001b[0m\u001b[0;34m(\u001b[0m\u001b[0mvar\u001b[0m\u001b[0;34m)\u001b[0m\u001b[0;34m\u001b[0m\u001b[0;34m\u001b[0m\u001b[0m\n\u001b[0;32m--> 142\u001b[0;31m                     \u001b[0;32mraise\u001b[0m \u001b[0mValueError\u001b[0m\u001b[0;34m(\u001b[0m\u001b[0merr\u001b[0m\u001b[0;34m)\u001b[0m\u001b[0;34m\u001b[0m\u001b[0;34m\u001b[0m\u001b[0m\n\u001b[0m\u001b[1;32m    143\u001b[0m \u001b[0;34m\u001b[0m\u001b[0m\n\u001b[1;32m    144\u001b[0m             \u001b[0;31m# Extract variable names\u001b[0m\u001b[0;34m\u001b[0m\u001b[0;34m\u001b[0m\u001b[0;34m\u001b[0m\u001b[0m\n",
      "\u001b[0;31mValueError\u001b[0m: Could not interpret input 'time'"
     ]
    }
   ],
   "source": [
    "sns.relplot(x=\"time\", y=\"firing_rate\", col=\"align\",\n",
    "            hue=\"choice\", size=\"coherence\", style=\"choice\",\n",
    "            facet_kws=dict(sharex=False),\n",
    "            kind=\"line\", legend=\"full\", data=df);"
   ]
  },
  {
   "cell_type": "code",
   "execution_count": 32,
   "metadata": {},
   "outputs": [],
   "source": [
    "t1=get_trends(p7)"
   ]
  },
  {
   "cell_type": "code",
   "execution_count": 39,
   "metadata": {},
   "outputs": [],
   "source": [
    "data = pd.DataFrame({'games_played': range(1,len(t1)+1),\n",
    "                     'wins_vs_loses_trend': t1})"
   ]
  },
  {
   "cell_type": "code",
   "execution_count": 21,
   "metadata": {},
   "outputs": [
    {
     "data": {
      "text/plain": [
       "pandas.core.frame.DataFrame"
      ]
     },
     "execution_count": 21,
     "metadata": {},
     "output_type": "execute_result"
    }
   ],
   "source": [
    "type(dots)"
   ]
  },
  {
   "cell_type": "code",
   "execution_count": 40,
   "metadata": {},
   "outputs": [
    {
     "data": {
      "text/plain": [
       "<matplotlib.axes._subplots.AxesSubplot at 0x7f9cf46efef0>"
      ]
     },
     "execution_count": 40,
     "metadata": {},
     "output_type": "execute_result"
    },
    {
     "data": {
      "image/png": "[encoded data removed]",
      "text/plain": [
       "<Figure size 432x288 with 1 Axes>"
      ]
     },
     "metadata": {
      "needs_background": "light"
     },
     "output_type": "display_data"
    }
   ],
   "source": [
    "sns.regplot(x='games_played',y='wins_vs_loses_trend',data=data, fit_reg=True) "
   ]
  },
  {
   "cell_type": "code",
   "execution_count": 37,
   "metadata": {},
   "outputs": [
    {
     "data": {
      "text/html": [
       "<div>\n",
       "<style scoped>\n",
       "    .dataframe tbody tr th:only-of-type {\n",
       "        vertical-align: middle;\n",
       "    }\n",
       "\n",
       "    .dataframe tbody tr th {\n",
       "        vertical-align: top;\n",
       "    }\n",
       "\n",
       "    .dataframe thead th {\n",
       "        text-align: right;\n",
       "    }\n",
       "</style>\n",
       "<table border=\"1\" class=\"dataframe\">\n",
       "  <thead>\n",
       "    <tr style=\"text-align: right;\">\n",
       "      <th></th>\n",
       "      <th>wins_vs_loses_trend</th>\n",
       "      <th>value</th>\n",
       "    </tr>\n",
       "  </thead>\n",
       "  <tbody>\n",
       "    <tr>\n",
       "      <th>0</th>\n",
       "      <td>1</td>\n",
       "      <td>1</td>\n",
       "    </tr>\n",
       "    <tr>\n",
       "      <th>1</th>\n",
       "      <td>2</td>\n",
       "      <td>2</td>\n",
       "    </tr>\n",
       "    <tr>\n",
       "      <th>2</th>\n",
       "      <td>3</td>\n",
       "      <td>3</td>\n",
       "    </tr>\n",
       "    <tr>\n",
       "      <th>3</th>\n",
       "      <td>4</td>\n",
       "      <td>4</td>\n",
       "    </tr>\n",
       "    <tr>\n",
       "      <th>4</th>\n",
       "      <td>5</td>\n",
       "      <td>5</td>\n",
       "    </tr>\n",
       "    <tr>\n",
       "      <th>5</th>\n",
       "      <td>6</td>\n",
       "      <td>4</td>\n",
       "    </tr>\n",
       "    <tr>\n",
       "      <th>6</th>\n",
       "      <td>7</td>\n",
       "      <td>4</td>\n",
       "    </tr>\n",
       "    <tr>\n",
       "      <th>7</th>\n",
       "      <td>8</td>\n",
       "      <td>4</td>\n",
       "    </tr>\n",
       "    <tr>\n",
       "      <th>8</th>\n",
       "      <td>9</td>\n",
       "      <td>3</td>\n",
       "    </tr>\n",
       "    <tr>\n",
       "      <th>9</th>\n",
       "      <td>10</td>\n",
       "      <td>3</td>\n",
       "    </tr>\n",
       "    <tr>\n",
       "      <th>10</th>\n",
       "      <td>11</td>\n",
       "      <td>3</td>\n",
       "    </tr>\n",
       "    <tr>\n",
       "      <th>11</th>\n",
       "      <td>12</td>\n",
       "      <td>2</td>\n",
       "    </tr>\n",
       "    <tr>\n",
       "      <th>12</th>\n",
       "      <td>13</td>\n",
       "      <td>1</td>\n",
       "    </tr>\n",
       "    <tr>\n",
       "      <th>13</th>\n",
       "      <td>14</td>\n",
       "      <td>0</td>\n",
       "    </tr>\n",
       "    <tr>\n",
       "      <th>14</th>\n",
       "      <td>15</td>\n",
       "      <td>-1</td>\n",
       "    </tr>\n",
       "    <tr>\n",
       "      <th>15</th>\n",
       "      <td>16</td>\n",
       "      <td>-1</td>\n",
       "    </tr>\n",
       "    <tr>\n",
       "      <th>16</th>\n",
       "      <td>17</td>\n",
       "      <td>0</td>\n",
       "    </tr>\n",
       "    <tr>\n",
       "      <th>17</th>\n",
       "      <td>18</td>\n",
       "      <td>-1</td>\n",
       "    </tr>\n",
       "    <tr>\n",
       "      <th>18</th>\n",
       "      <td>19</td>\n",
       "      <td>0</td>\n",
       "    </tr>\n",
       "    <tr>\n",
       "      <th>19</th>\n",
       "      <td>20</td>\n",
       "      <td>1</td>\n",
       "    </tr>\n",
       "    <tr>\n",
       "      <th>20</th>\n",
       "      <td>21</td>\n",
       "      <td>2</td>\n",
       "    </tr>\n",
       "    <tr>\n",
       "      <th>21</th>\n",
       "      <td>22</td>\n",
       "      <td>3</td>\n",
       "    </tr>\n",
       "    <tr>\n",
       "      <th>22</th>\n",
       "      <td>23</td>\n",
       "      <td>4</td>\n",
       "    </tr>\n",
       "    <tr>\n",
       "      <th>23</th>\n",
       "      <td>24</td>\n",
       "      <td>4</td>\n",
       "    </tr>\n",
       "    <tr>\n",
       "      <th>24</th>\n",
       "      <td>25</td>\n",
       "      <td>3</td>\n",
       "    </tr>\n",
       "    <tr>\n",
       "      <th>25</th>\n",
       "      <td>26</td>\n",
       "      <td>4</td>\n",
       "    </tr>\n",
       "    <tr>\n",
       "      <th>26</th>\n",
       "      <td>27</td>\n",
       "      <td>5</td>\n",
       "    </tr>\n",
       "    <tr>\n",
       "      <th>27</th>\n",
       "      <td>28</td>\n",
       "      <td>4</td>\n",
       "    </tr>\n",
       "    <tr>\n",
       "      <th>28</th>\n",
       "      <td>29</td>\n",
       "      <td>3</td>\n",
       "    </tr>\n",
       "    <tr>\n",
       "      <th>29</th>\n",
       "      <td>30</td>\n",
       "      <td>3</td>\n",
       "    </tr>\n",
       "    <tr>\n",
       "      <th>...</th>\n",
       "      <td>...</td>\n",
       "      <td>...</td>\n",
       "    </tr>\n",
       "    <tr>\n",
       "      <th>999970</th>\n",
       "      <td>999971</td>\n",
       "      <td>-3670</td>\n",
       "    </tr>\n",
       "    <tr>\n",
       "      <th>999971</th>\n",
       "      <td>999972</td>\n",
       "      <td>-3671</td>\n",
       "    </tr>\n",
       "    <tr>\n",
       "      <th>999972</th>\n",
       "      <td>999973</td>\n",
       "      <td>-3670</td>\n",
       "    </tr>\n",
       "    <tr>\n",
       "      <th>999973</th>\n",
       "      <td>999974</td>\n",
       "      <td>-3669</td>\n",
       "    </tr>\n",
       "    <tr>\n",
       "      <th>999974</th>\n",
       "      <td>999975</td>\n",
       "      <td>-3670</td>\n",
       "    </tr>\n",
       "    <tr>\n",
       "      <th>999975</th>\n",
       "      <td>999976</td>\n",
       "      <td>-3669</td>\n",
       "    </tr>\n",
       "    <tr>\n",
       "      <th>999976</th>\n",
       "      <td>999977</td>\n",
       "      <td>-3668</td>\n",
       "    </tr>\n",
       "    <tr>\n",
       "      <th>999977</th>\n",
       "      <td>999978</td>\n",
       "      <td>-3668</td>\n",
       "    </tr>\n",
       "    <tr>\n",
       "      <th>999978</th>\n",
       "      <td>999979</td>\n",
       "      <td>-3667</td>\n",
       "    </tr>\n",
       "    <tr>\n",
       "      <th>999979</th>\n",
       "      <td>999980</td>\n",
       "      <td>-3666</td>\n",
       "    </tr>\n",
       "    <tr>\n",
       "      <th>999980</th>\n",
       "      <td>999981</td>\n",
       "      <td>-3667</td>\n",
       "    </tr>\n",
       "    <tr>\n",
       "      <th>999981</th>\n",
       "      <td>999982</td>\n",
       "      <td>-3667</td>\n",
       "    </tr>\n",
       "    <tr>\n",
       "      <th>999982</th>\n",
       "      <td>999983</td>\n",
       "      <td>-3668</td>\n",
       "    </tr>\n",
       "    <tr>\n",
       "      <th>999983</th>\n",
       "      <td>999984</td>\n",
       "      <td>-3668</td>\n",
       "    </tr>\n",
       "    <tr>\n",
       "      <th>999984</th>\n",
       "      <td>999985</td>\n",
       "      <td>-3667</td>\n",
       "    </tr>\n",
       "    <tr>\n",
       "      <th>999985</th>\n",
       "      <td>999986</td>\n",
       "      <td>-3668</td>\n",
       "    </tr>\n",
       "    <tr>\n",
       "      <th>999986</th>\n",
       "      <td>999987</td>\n",
       "      <td>-3667</td>\n",
       "    </tr>\n",
       "    <tr>\n",
       "      <th>999987</th>\n",
       "      <td>999988</td>\n",
       "      <td>-3666</td>\n",
       "    </tr>\n",
       "    <tr>\n",
       "      <th>999988</th>\n",
       "      <td>999989</td>\n",
       "      <td>-3667</td>\n",
       "    </tr>\n",
       "    <tr>\n",
       "      <th>999989</th>\n",
       "      <td>999990</td>\n",
       "      <td>-3666</td>\n",
       "    </tr>\n",
       "    <tr>\n",
       "      <th>999990</th>\n",
       "      <td>999991</td>\n",
       "      <td>-3667</td>\n",
       "    </tr>\n",
       "    <tr>\n",
       "      <th>999991</th>\n",
       "      <td>999992</td>\n",
       "      <td>-3666</td>\n",
       "    </tr>\n",
       "    <tr>\n",
       "      <th>999992</th>\n",
       "      <td>999993</td>\n",
       "      <td>-3665</td>\n",
       "    </tr>\n",
       "    <tr>\n",
       "      <th>999993</th>\n",
       "      <td>999994</td>\n",
       "      <td>-3665</td>\n",
       "    </tr>\n",
       "    <tr>\n",
       "      <th>999994</th>\n",
       "      <td>999995</td>\n",
       "      <td>-3664</td>\n",
       "    </tr>\n",
       "    <tr>\n",
       "      <th>999995</th>\n",
       "      <td>999996</td>\n",
       "      <td>-3665</td>\n",
       "    </tr>\n",
       "    <tr>\n",
       "      <th>999996</th>\n",
       "      <td>999997</td>\n",
       "      <td>-3666</td>\n",
       "    </tr>\n",
       "    <tr>\n",
       "      <th>999997</th>\n",
       "      <td>999998</td>\n",
       "      <td>-3667</td>\n",
       "    </tr>\n",
       "    <tr>\n",
       "      <th>999998</th>\n",
       "      <td>999999</td>\n",
       "      <td>-3666</td>\n",
       "    </tr>\n",
       "    <tr>\n",
       "      <th>999999</th>\n",
       "      <td>1000000</td>\n",
       "      <td>-3667</td>\n",
       "    </tr>\n",
       "  </tbody>\n",
       "</table>\n",
       "<p>1000000 rows × 2 columns</p>\n",
       "</div>"
      ],
      "text/plain": [
       "        wins_vs_loses_trend  value\n",
       "0                         1      1\n",
       "1                         2      2\n",
       "2                         3      3\n",
       "3                         4      4\n",
       "4                         5      5\n",
       "5                         6      4\n",
       "6                         7      4\n",
       "7                         8      4\n",
       "8                         9      3\n",
       "9                        10      3\n",
       "10                       11      3\n",
       "11                       12      2\n",
       "12                       13      1\n",
       "13                       14      0\n",
       "14                       15     -1\n",
       "15                       16     -1\n",
       "16                       17      0\n",
       "17                       18     -1\n",
       "18                       19      0\n",
       "19                       20      1\n",
       "20                       21      2\n",
       "21                       22      3\n",
       "22                       23      4\n",
       "23                       24      4\n",
       "24                       25      3\n",
       "25                       26      4\n",
       "26                       27      5\n",
       "27                       28      4\n",
       "28                       29      3\n",
       "29                       30      3\n",
       "...                     ...    ...\n",
       "999970               999971  -3670\n",
       "999971               999972  -3671\n",
       "999972               999973  -3670\n",
       "999973               999974  -3669\n",
       "999974               999975  -3670\n",
       "999975               999976  -3669\n",
       "999976               999977  -3668\n",
       "999977               999978  -3668\n",
       "999978               999979  -3667\n",
       "999979               999980  -3666\n",
       "999980               999981  -3667\n",
       "999981               999982  -3667\n",
       "999982               999983  -3668\n",
       "999983               999984  -3668\n",
       "999984               999985  -3667\n",
       "999985               999986  -3668\n",
       "999986               999987  -3667\n",
       "999987               999988  -3666\n",
       "999988               999989  -3667\n",
       "999989               999990  -3666\n",
       "999990               999991  -3667\n",
       "999991               999992  -3666\n",
       "999992               999993  -3665\n",
       "999993               999994  -3665\n",
       "999994               999995  -3664\n",
       "999995               999996  -3665\n",
       "999996               999997  -3666\n",
       "999997               999998  -3667\n",
       "999998               999999  -3666\n",
       "999999              1000000  -3667\n",
       "\n",
       "[1000000 rows x 2 columns]"
      ]
     },
     "execution_count": 37,
     "metadata": {},
     "output_type": "execute_result"
    }
   ],
   "source": [
    "data"
   ]
  },
  {
   "cell_type": "code",
   "execution_count": null,
   "metadata": {},
   "outputs": [],
   "source": []
  }
 ],
 "metadata": {
  "kernelspec": {
   "display_name": "Python 3",
   "language": "python",
   "name": "python3"
  },
  "language_info": {
   "codemirror_mode": {
    "name": "ipython",
    "version": 3
   },
   "file_extension": ".py",
   "mimetype": "text/x-python",
   "name": "python",
   "nbconvert_exporter": "python",
   "pygments_lexer": "ipython3",
   "version": "3.6.7"
  }
 },
 "nbformat": 4,
 "nbformat_minor": 2
}
