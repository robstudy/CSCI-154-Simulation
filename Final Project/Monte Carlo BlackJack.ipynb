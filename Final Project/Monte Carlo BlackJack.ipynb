{
 "cells": [
  {
   "cell_type": "code",
   "execution_count": 1,
   "metadata": {},
   "outputs": [],
   "source": [
    "import random\n",
    "\n",
    "#Project has two deck version\n",
    "#Version 1: Infinite deck: On every run a card is drawn with equal probability.\n",
    "#Version 2: Single deck: One deck of cards is used. The deck is reshuffled after every game.\n",
    "\n",
    "#returns new deck of Version 2\n",
    "def newDeck():\n",
    "    return {'Ace': 4, 'Two': 4, 'Three': 4, 'Four': 4, 'Five': 4, 'Six':4, 'Seven':4, 'Eight':4,\n",
    "         'Nine': 4, 'Ten': 4, 'J': 4, 'Q':4, 'K': 4}\n",
    "\n",
    "deck = newDeck()\n",
    "\n",
    "#Check if Deck is Empty\n",
    "def isEmpty():\n",
    "    for key, value in deck.items():\n",
    "        if value > 0:\n",
    "            return False\n",
    "    return True\n",
    "\n",
    "\n",
    "#draw cards from deck\n",
    "def drawCardVersion2():\n",
    "    card, numcards = random.choice(list(deck.items()))\n",
    "    if numcards > 0:\n",
    "        deck[card] -= 1\n",
    "        return card\n",
    "    elif not isEmpty():\n",
    "        return drawCardVersion2()\n",
    "    else:\n",
    "        return 'Empty Deck'\n",
    "\n",
    "#test if drawCardVersion2 works\n",
    "#for i in range(100):\n",
    " #   print(drawCardVersion2())\n",
    "\n",
    "#for key,value in deck.items():\n",
    " #   print(key,value)"
   ]
  },
  {
   "cell_type": "code",
   "execution_count": 6,
   "metadata": {},
   "outputs": [
    {
     "name": "stdout",
     "output_type": "stream",
     "text": [
      "1 :  {'P_Wins': 40652, 'D_Wins': 40974, 'P_Bust': 20228, 'D_Bust': 16753, 'Draw': 10535, 'Win_vs_Loss_Rate': 0.9921413579342998, 'Win_and_Draw_vs_Loss_Rate': 1.2492556255186216, 'num_of_tests': 100000}\n",
      "2 :  {'P_Wins': 39810, 'D_Wins': 41308, 'P_Bust': 21572, 'D_Bust': 15810, 'Draw': 10243, 'Win_vs_Loss_Rate': 0.9637358380943158, 'Win_and_Draw_vs_Loss_Rate': 1.2117023336883896, 'num_of_tests': 100000}\n",
      "3 :  {'P_Wins': 40984, 'D_Wins': 40639, 'P_Bust': 20606, 'D_Bust': 16805, 'Draw': 10283, 'Win_vs_Loss_Rate': 1.0084893821206231, 'Win_and_Draw_vs_Loss_Rate': 1.2615221831245849, 'num_of_tests': 100000}\n",
      "4 :  {'P_Wins': 37983, 'D_Wins': 56721, 'P_Bust': 0, 'D_Bust': 26716, 'Draw': 5296, 'Win_vs_Loss_Rate': 0.6696461627968477, 'Win_and_Draw_vs_Loss_Rate': 0.7630154616455986, 'num_of_tests': 100000}\n",
      "5 :  {'P_Wins': 42059, 'D_Wins': 45956, 'P_Bust': 12856, 'D_Bust': 21856, 'Draw': 8767, 'Win_vs_Loss_Rate': 0.9152014970841674, 'Win_and_Draw_vs_Loss_Rate': 1.1059709287144226, 'num_of_tests': 100000}\n",
      "6 :  {'P_Wins': 42363, 'D_Wins': 45645, 'P_Bust': 12407, 'D_Bust': 22362, 'Draw': 8807, 'Win_vs_Loss_Rate': 0.9280972724285245, 'Win_and_Draw_vs_Loss_Rate': 1.1210428305400373, 'num_of_tests': 100000}\n",
      "7 :  {'P_Wins': 41942, 'D_Wins': 45794, 'P_Bust': 12036, 'D_Bust': 22209, 'Draw': 9056, 'Win_vs_Loss_Rate': 0.9158841769664148, 'Win_and_Draw_vs_Loss_Rate': 1.1136393413984365, 'num_of_tests': 100000}\n",
      " \n",
      "1 :  {'P_Wins': 41034, 'D_Wins': 40602, 'P_Bust': 20101, 'D_Bust': 17095, 'Draw': 10391, 'Win_vs_Loss_Rate': 1.010639869957145, 'Win_and_Draw_vs_Loss_Rate': 1.2665632234865278, 'num_of_tests': 100000}\n",
      "2 :  {'P_Wins': 40246, 'D_Wins': 41139, 'P_Bust': 21508, 'D_Bust': 16230, 'Draw': 10213, 'Win_vs_Loss_Rate': 0.9782931038673764, 'Win_and_Draw_vs_Loss_Rate': 1.226549016748098, 'num_of_tests': 100000}\n",
      "3 :  {'P_Wins': 40543, 'D_Wins': 41189, 'P_Bust': 21191, 'D_Bust': 16358, 'Draw': 10116, 'Win_vs_Loss_Rate': 0.9843162009274321, 'Win_and_Draw_vs_Loss_Rate': 1.22991575420622, 'num_of_tests': 100000}\n",
      "4 :  {'P_Wins': 37977, 'D_Wins': 56866, 'P_Bust': 0, 'D_Bust': 26539, 'Draw': 5157, 'Win_vs_Loss_Rate': 0.667833151619597, 'Win_and_Draw_vs_Loss_Rate': 0.7585200295431365, 'num_of_tests': 100000}\n",
      "5 :  {'P_Wins': 41793, 'D_Wins': 46201, 'P_Bust': 12860, 'D_Bust': 21941, 'Draw': 8752, 'Win_vs_Loss_Rate': 0.9045908097227333, 'Win_and_Draw_vs_Loss_Rate': 1.094023938875782, 'num_of_tests': 100000}\n",
      "6 :  {'P_Wins': 42438, 'D_Wins': 45375, 'P_Bust': 12495, 'D_Bust': 22359, 'Draw': 8994, 'Win_vs_Loss_Rate': 0.9352727272727273, 'Win_and_Draw_vs_Loss_Rate': 1.133487603305785, 'num_of_tests': 100000}\n",
      "7 :  {'P_Wins': 42057, 'D_Wins': 45736, 'P_Bust': 12017, 'D_Bust': 22355, 'Draw': 9000, 'Win_vs_Loss_Rate': 0.9195600839601189, 'Win_and_Draw_vs_Loss_Rate': 1.1163416127339514, 'num_of_tests': 100000}\n",
      " \n",
      "1 :  {'P_Wins': 40541, 'D_Wins': 41076, 'P_Bust': 20380, 'D_Bust': 16833, 'Draw': 10536, 'Win_vs_Loss_Rate': 0.9869753627422339, 'Win_and_Draw_vs_Loss_Rate': 1.2434755088129321, 'num_of_tests': 100000}\n",
      "2 :  {'P_Wins': 40081, 'D_Wins': 41381, 'P_Bust': 21745, 'D_Bust': 16098, 'Draw': 10174, 'Win_vs_Loss_Rate': 0.9685846161281748, 'Win_and_Draw_vs_Loss_Rate': 1.2144462434450594, 'num_of_tests': 100000}\n",
      "3 :  {'P_Wins': 40590, 'D_Wins': 41040, 'P_Bust': 20674, 'D_Bust': 16457, 'Draw': 10196, 'Win_vs_Loss_Rate': 0.9890350877192983, 'Win_and_Draw_vs_Loss_Rate': 1.237475633528265, 'num_of_tests': 100000}\n",
      "4 :  {'P_Wins': 38123, 'D_Wins': 56664, 'P_Bust': 0, 'D_Bust': 26872, 'Draw': 5213, 'Win_vs_Loss_Rate': 0.6727904842580827, 'Win_and_Draw_vs_Loss_Rate': 0.7647889312438232, 'num_of_tests': 100000}\n",
      "5 :  {'P_Wins': 42119, 'D_Wins': 45895, 'P_Bust': 12981, 'D_Bust': 22188, 'Draw': 8717, 'Win_vs_Loss_Rate': 0.9177252424011331, 'Win_and_Draw_vs_Loss_Rate': 1.10765878636017, 'num_of_tests': 100000}\n",
      "6 :  {'P_Wins': 42600, 'D_Wins': 45316, 'P_Bust': 12211, 'D_Bust': 22476, 'Draw': 8966, 'Win_vs_Loss_Rate': 0.9400653190925943, 'Win_and_Draw_vs_Loss_Rate': 1.1379203813222702, 'num_of_tests': 100000}\n",
      "7 :  {'P_Wins': 41958, 'D_Wins': 46036, 'P_Bust': 12029, 'D_Bust': 22543, 'Draw': 8933, 'Win_vs_Loss_Rate': 0.911417151794248, 'Win_and_Draw_vs_Loss_Rate': 1.1054609436093492, 'num_of_tests': 100000}\n",
      " \n",
      "1 :  {'P_Wins': 40740, 'D_Wins': 40745, 'P_Bust': 20279, 'D_Bust': 16881, 'Draw': 10620, 'Win_vs_Loss_Rate': 0.99987728555651, 'Win_and_Draw_vs_Loss_Rate': 1.2605227635292673, 'num_of_tests': 100000}\n",
      "2 :  {'P_Wins': 40163, 'D_Wins': 41175, 'P_Bust': 21420, 'D_Bust': 16096, 'Draw': 10144, 'Win_vs_Loss_Rate': 0.9754219793564056, 'Win_and_Draw_vs_Loss_Rate': 1.221785063752277, 'num_of_tests': 100000}\n",
      "3 :  {'P_Wins': 40705, 'D_Wins': 40822, 'P_Bust': 20678, 'D_Bust': 16705, 'Draw': 10369, 'Win_vs_Loss_Rate': 0.997133898388124, 'Win_and_Draw_vs_Loss_Rate': 1.2511390916662584, 'num_of_tests': 100000}\n",
      "4 :  {'P_Wins': 38141, 'D_Wins': 56736, 'P_Bust': 0, 'D_Bust': 26815, 'Draw': 5123, 'Win_vs_Loss_Rate': 0.6722539481105471, 'Win_and_Draw_vs_Loss_Rate': 0.7625493513818387, 'num_of_tests': 100000}\n",
      "5 :  {'P_Wins': 41797, 'D_Wins': 46350, 'P_Bust': 12975, 'D_Bust': 21843, 'Draw': 8638, 'Win_vs_Loss_Rate': 0.9017691477885653, 'Win_and_Draw_vs_Loss_Rate': 1.088133764832794, 'num_of_tests': 100000}\n",
      "6 :  {'P_Wins': 42469, 'D_Wins': 45391, 'P_Bust': 12226, 'D_Bust': 22365, 'Draw': 8964, 'Win_vs_Loss_Rate': 0.935626005155207, 'Win_and_Draw_vs_Loss_Rate': 1.1331100879028881, 'num_of_tests': 100000}\n",
      "7 :  {'P_Wins': 42548, 'D_Wins': 45594, 'P_Bust': 12010, 'D_Bust': 22820, 'Draw': 8828, 'Win_vs_Loss_Rate': 0.9331929639864894, 'Win_and_Draw_vs_Loss_Rate': 1.1268149317892706, 'num_of_tests': 100000}\n",
      " \n",
      "1 :  {'P_Wins': 40637, 'D_Wins': 40804, 'P_Bust': 20174, 'D_Bust': 16790, 'Draw': 10667, 'Win_vs_Loss_Rate': 0.9959072639937261, 'Win_and_Draw_vs_Loss_Rate': 1.2573277129693168, 'num_of_tests': 100000}\n",
      "2 :  {'P_Wins': 40143, 'D_Wins': 41065, 'P_Bust': 21611, 'D_Bust': 16083, 'Draw': 10236, 'Win_vs_Loss_Rate': 0.9775477900888835, 'Win_and_Draw_vs_Loss_Rate': 1.2268111530500425, 'num_of_tests': 100000}\n",
      "3 :  {'P_Wins': 40712, 'D_Wins': 40967, 'P_Bust': 21018, 'D_Bust': 16551, 'Draw': 10359, 'Win_vs_Loss_Rate': 0.9937754778236141, 'Win_and_Draw_vs_Loss_Rate': 1.2466375375302072, 'num_of_tests': 100000}\n",
      "4 :  {'P_Wins': 37996, 'D_Wins': 56815, 'P_Bust': 0, 'D_Bust': 26773, 'Draw': 5189, 'Win_vs_Loss_Rate': 0.6687670509548534, 'Win_and_Draw_vs_Loss_Rate': 0.7600985655196691, 'num_of_tests': 100000}\n",
      "5 :  {'P_Wins': 41946, 'D_Wins': 45933, 'P_Bust': 12947, 'D_Bust': 21874, 'Draw': 8840, 'Win_vs_Loss_Rate': 0.9131996603748939, 'Win_and_Draw_vs_Loss_Rate': 1.1056538871835064, 'num_of_tests': 100000}\n",
      "6 :  {'P_Wins': 42193, 'D_Wins': 45782, 'P_Bust': 12434, 'D_Bust': 22264, 'Draw': 8822, 'Win_vs_Loss_Rate': 0.9216067450089555, 'Win_and_Draw_vs_Loss_Rate': 1.1143025643265911, 'num_of_tests': 100000}\n",
      "7 :  {'P_Wins': 42031, 'D_Wins': 45775, 'P_Bust': 12002, 'D_Bust': 22363, 'Draw': 9055, 'Win_vs_Loss_Rate': 0.918208629164391, 'Win_and_Draw_vs_Loss_Rate': 1.11602403058438, 'num_of_tests': 100000}\n",
      " \n"
     ]
    }
   ],
   "source": [
    "%run -i 'main.py'"
   ]
  },
  {
   "cell_type": "code",
   "execution_count": null,
   "metadata": {},
   "outputs": [],
   "source": []
  }
 ],
 "metadata": {
  "kernelspec": {
   "display_name": "Python 3",
   "language": "python",
   "name": "python3"
  },
  "language_info": {
   "codemirror_mode": {
    "name": "ipython",
    "version": 3
   },
   "file_extension": ".py",
   "mimetype": "text/x-python",
   "name": "python",
   "nbconvert_exporter": "python",
   "pygments_lexer": "ipython3",
   "version": "3.6.7"
  }
 },
 "nbformat": 4,
 "nbformat_minor": 2
}
