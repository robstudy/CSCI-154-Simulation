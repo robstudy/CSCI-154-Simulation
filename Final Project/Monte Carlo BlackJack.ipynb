{
 "cells": [
  {
   "cell_type": "code",
   "execution_count": 7,
   "metadata": {},
   "outputs": [],
   "source": [
    "import random\n",
    "\n",
    "#Project has two deck version\n",
    "#Version 1: Infinite deck: On every run a card is drawn with equal probability.\n",
    "#Version 2: Single deck: One deck of cards is used. The deck is reshuffled after every game.\n",
    "\n",
    "#returns new deck of Version 2\n",
    "def newDeck():\n",
    "    return {'Ace': 4, 'Two': 4, 'Three': 4, 'Four': 4, 'Five': 4, 'Six':4, 'Seven':4, 'Eight':4,\n",
    "         'Nine': 4, 'Ten': 4, 'J': 4, 'Q':4, 'K': 4}\n",
    "\n",
    "deck = newDeck()\n",
    "\n",
    "#Check if Deck is Empty\n",
    "def isEmpty():\n",
    "    for key, value in deck.items():\n",
    "        if value > 0:\n",
    "            return False\n",
    "    return True\n",
    "\n",
    "\n",
    "#draw cards from deck\n",
    "def drawCardVersion2():\n",
    "    card, numcards = random.choice(list(deck.items()))\n",
    "    if numcards > 0:\n",
    "        deck[card] -= 1\n",
    "        return card\n",
    "    elif not isEmpty():\n",
    "        return drawCardVersion2()\n",
    "    else:\n",
    "        return 'Empty Deck'"
   ]
  },
  {
   "cell_type": "code",
   "execution_count": 11,
   "metadata": {},
   "outputs": [
    {
     "name": "stdout",
     "output_type": "stream",
     "text": [
      "policy 1:  {'P_Wins': (4084.45, 48.52, 40.84), 'D_Wins': (4068.81, 51.44, 40.69), 'P_Bust': (2019.04, 44.47, 20.19), 'D_Bust': (1687.84, 48.52, 16.88), 'Draw': (1052.88, 29.73, 10.53)}\n",
      "policy 2:  {'P_Wins': (4013.65, 45.83, 40.14), 'D_Wins': (4120.5, 47.45, 41.21), 'P_Bust': (2149.96, 39.77, 21.5), 'D_Bust': (1603.07, 45.83, 16.03), 'Draw': (1024.0, 28.16, 10.24)}\n",
      "policy 3:  {'P_Wins': (4066.39, 44.88, 40.66), 'D_Wins': (4072.54, 39.39, 40.73), 'P_Bust': (2070.95, 35.52, 20.71), 'D_Bust': (1655.63, 44.88, 16.56), 'Draw': (1040.12, 27.44, 10.4)}\n",
      "policy 4:  {'P_Wins': (3807.62, 50.93, 38.08), 'D_Wins': (5671.48, 55.12, 56.71), 'P_Bust': (0.0, 0.0, 0.0), 'D_Bust': (2682.03, 50.93, 26.82), 'Draw': (520.9, 24.92, 5.21)}\n",
      "policy 5:  {'P_Wins': (4205.98, 48.26, 42.06), 'D_Wins': (4580.39, 50.14, 45.8), 'P_Bust': (1278.29, 35.11, 12.78), 'D_Bust': (2207.71, 48.26, 22.08), 'Draw': (882.9, 30.07, 8.83)}\n",
      "policy 6:  {'P_Wins': (4244.09, 49.37, 42.44), 'D_Wins': (4549.23, 51.02, 45.49), 'P_Bust': (1238.61, 34.14, 12.39), 'D_Bust': (2235.26, 49.37, 22.35), 'Draw': (887.68, 30.63, 8.88)}\n",
      "policy 7:  {'P_Wins': (4226.91, 49.87, 42.27), 'D_Wins': (4556.13, 53.03, 45.56), 'P_Bust': (1201.12, 31.27, 12.01), 'D_Bust': (2257.81, 49.87, 22.58), 'Draw': (904.93, 29.25, 9.05)}\n",
      " \n"
     ]
    }
   ],
   "source": [
    "%run -i 'main.py'"
   ]
  },
  {
   "cell_type": "code",
   "execution_count": null,
   "metadata": {},
   "outputs": [],
   "source": []
  }
 ],
 "metadata": {
  "kernelspec": {
   "display_name": "Python 3",
   "language": "python",
   "name": "python3"
  },
  "language_info": {
   "codemirror_mode": {
    "name": "ipython",
    "version": 3
   },
   "file_extension": ".py",
   "mimetype": "text/x-python",
   "name": "python",
   "nbconvert_exporter": "python",
   "pygments_lexer": "ipython3",
   "version": "3.6.7"
  }
 },
 "nbformat": 4,
 "nbformat_minor": 2
}
